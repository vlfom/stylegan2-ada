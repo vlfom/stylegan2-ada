{
 "cells": [
  {
   "cell_type": "markdown",
   "metadata": {
    "heading_collapsed": "true",
    "id": "8UDVO2FGKIQw"
   },
   "source": [
    "# StyleGAN2-ADA: training a model from scratch"
   ]
  },
  {
   "cell_type": "markdown",
   "metadata": {
    "id": "ruo5KFL4yw0j"
   },
   "source": [
    "## Prepare data"
   ]
  },
  {
   "cell_type": "code",
   "execution_count": 1,
   "metadata": {},
   "outputs": [
    {
     "name": "stdout",
     "output_type": "stream",
     "text": [
      "TensorFlow 1.x selected.\n"
     ]
    }
   ],
   "source": [
    "%tensorflow_version 1.x\n",
    "import tensorflow as tf"
   ]
  },
  {
   "cell_type": "code",
   "execution_count": 2,
   "metadata": {},
   "outputs": [],
   "source": [
    "zip_location = '/content/drive/MyDrive/Work/Regular/Unetiq/ARNO/datasets/Bonn/filtered_128_50k.zip'\n",
    "tf_data_location = '/content/drive/MyDrive/Work/Regular/Unetiq/ARNO/datasets/Bonn/tf_data/tf-dataset-bonn-labeled.zip'"
   ]
  },
  {
   "cell_type": "markdown",
   "metadata": {},
   "source": [
    "### Generate"
   ]
  },
  {
   "cell_type": "code",
   "execution_count": 3,
   "metadata": {
    "id": "56Vt8uJ9I78P"
   },
   "outputs": [],
   "source": [
    "# %%capture\n",
    "\n",
    "# # Unzip from Google Drive\n",
    "\n",
    "# %cd /content\n",
    "# !cp {zip_location} /content/\n",
    "# !unzip /content/filtered_128_50k.zip"
   ]
  },
  {
   "cell_type": "code",
   "execution_count": 4,
   "metadata": {},
   "outputs": [],
   "source": [
    "# # Process\n",
    "\n",
    "# %cd /content\n",
    "# !python stylegan2-ada/dataset_tool.py create_from_images /content/datasets/bonn /content/filtered_128/"
   ]
  },
  {
   "cell_type": "code",
   "execution_count": 5,
   "metadata": {},
   "outputs": [],
   "source": [
    "# # Upload generated results to GDrive\n",
    "\n",
    "# %cd /content/datasets\n",
    "# !zip -r tf-dataset-bonn-labeled.zip bonn\n",
    "# !cp /content/datasets/tf-dataset-bonn-labeled.zip {tf_data_location}"
   ]
  },
  {
   "cell_type": "markdown",
   "metadata": {},
   "source": [
    "### Load"
   ]
  },
  {
   "cell_type": "code",
   "execution_count": 4,
   "metadata": {},
   "outputs": [
    {
     "name": "stdout",
     "output_type": "stream",
     "text": [
      "/content/datasets\n",
      "Archive:  /content/datasets/tf-dataset-bonn-labeled.zip\n",
      "   creating: bonn/\n",
      "  inflating: bonn/bonn-r05.tfrecords  \n",
      "  inflating: bonn/bonn-r04.tfrecords  \n",
      "  inflating: bonn/bonn-r07.tfrecords  \n",
      "  inflating: bonn/bonn-r06.tfrecords  \n",
      "  inflating: bonn/bonn-rxx.labels    \n",
      "   creating: bonn/.ipynb_checkpoints/\n",
      "  inflating: bonn/bonn-r03.tfrecords  \n",
      "  inflating: bonn/bonn-r02.tfrecords  \n"
     ]
    }
   ],
   "source": [
    "# Load from GDrive directly\n",
    "\n",
    "!mkdir /content/datasets\n",
    "!cp {tf_data_location} /content/datasets/\n",
    "%cd /content/datasets\n",
    "!unzip /content/datasets/tf-dataset-bonn-labeled.zip"
   ]
  },
  {
   "cell_type": "code",
   "execution_count": null,
   "metadata": {},
   "outputs": [],
   "source": [
    "# Don't forget to delete labels from the folders if training an unconditional one!"
   ]
  },
  {
   "cell_type": "markdown",
   "metadata": {
    "id": "RWpIjP7hKzJZ"
   },
   "source": [
    "## Train new networks"
   ]
  },
  {
   "cell_type": "code",
   "execution_count": 7,
   "metadata": {},
   "outputs": [],
   "source": [
    "# Configure ClearML\n",
    "\n",
    "import os\n",
    "\n",
    "os.environ[\"CLEARML_PROJECT_NAME\"] = \"Unetiq-ARNO\"\n",
    "os.environ[\"CLEARML_TASK_NAME\"] = \"StyleGAN2-ada-128x-v0\""
   ]
  },
  {
   "cell_type": "code",
   "execution_count": 8,
   "metadata": {},
   "outputs": [
    {
     "name": "stdout",
     "output_type": "stream",
     "text": [
      "ClearML Task: created new task id=054825127b064dd6b770fd3864d1e6a3\n",
      "2021-01-25 23:23:32,769 - clearml.Repository Detection - WARNING - Can't get branch information for git repo in /usr/local/lib/python3.6/dist-packages\n",
      "2021-01-25 23:23:32,779 - clearml.Repository Detection - WARNING - Can't get commit information for git repo in /usr/local/lib/python3.6/dist-packages\n",
      "2021-01-25 23:23:32,789 - clearml.Repository Detection - WARNING - Can't get root information for git repo in /usr/local/lib/python3.6/dist-packages\n",
      "2021-01-25 23:23:32,800 - clearml.Repository Detection - WARNING - Can't get status information for git repo in /usr/local/lib/python3.6/dist-packages\n",
      "2021-01-25 23:23:32,818 - clearml.Repository Detection - WARNING - Can't get diff information for git repo in /usr/local/lib/python3.6/dist-packages\n",
      "2021-01-25 23:23:32,830 - clearml.Repository Detection - WARNING - Can't get modified information for git repo in /usr/local/lib/python3.6/dist-packages\n",
      "ClearML results page: https://app.community.clear.ml/projects/945bd0c36255401197336ac56f0c2cc3/experiments/054825127b064dd6b770fd3864d1e6a3/output/log\n",
      "2021-01-25 23:23:38,423 - clearml.Task - WARNING - ### TASK STOPPED - USER ABORTED - STATUS CHANGED ###\n"
     ]
    }
   ],
   "source": [
    "# Set ClearML parameters\n",
    "\n",
    "from clearml import Task, Logger\n",
    "\n",
    "task = Task.init(project_name=os.environ[\"CLEARML_PROJECT_NAME\"], task_name=os.environ[\"CLEARML_TASK_NAME\"], continue_last_task=True)\n",
    "task.connect_configuration('/root/clearml.conf')\n",
    "logger = task.get_logger()\n",
    "logger.set_default_upload_destination(uri='gs://clearml-bucket-0')\n",
    "\n",
    "parameters = {\n",
    "    'model': 'stylegan2-ada',\n",
    "    'type':  'uncond',\n",
    "    'data':  'bonn-128-50k'\n",
    "}\n",
    "\n",
    "parameters = task.connect(parameters)\n",
    "\n",
    "task.mark_stopped()"
   ]
  },
  {
   "cell_type": "code",
   "execution_count": 2,
   "metadata": {},
   "outputs": [
    {
     "name": "stdout",
     "output_type": "stream",
     "text": [
      "TensorFlow 1.x selected.\n"
     ]
    }
   ],
   "source": [
    "# Switch to Tensorflow 1.x\n",
    "%tensorflow_version 1.x"
   ]
  },
  {
   "cell_type": "code",
   "execution_count": null,
   "metadata": {
    "collapsed": true,
    "id": "f8TWmeqExkda",
    "jupyter": {
     "outputs_hidden": true
    }
   },
   "outputs": [
    {
     "name": "stdout",
     "output_type": "stream",
     "text": [
      "/content\n",
      "ClearML Task: continuing previous task id=054825127b064dd6b770fd3864d1e6a3 Notice this run will not be reproducible!\n",
      "ClearML results page: https://app.community.clear.ml/projects/945bd0c36255401197336ac56f0c2cc3/experiments/054825127b064dd6b770fd3864d1e6a3/output/log\n",
      "tcmalloc: large alloc 4294967296 bytes == 0x7ab8000 @  0x7fb61ab00001 0x7fb617d434ff 0x7fb617d93b08 0x7fb617d97ac7 0x7fb617e361a3 0x50a4a5 0x50cc96 0x507be4 0x508ec2 0x594a01 0x549e8f 0x5515c1 0x5a9dac 0x50a433 0x50cc96 0x507be4 0x588e5c 0x59fd0e 0x50d256 0x507be4 0x588e5c 0x59fd0e 0x50d256 0x507be4 0x588e5c 0x59fd0e 0x50d256 0x5095c8 0x50a2fd 0x50beb4 0x507be4\n",
      "tcmalloc: large alloc 4294967296 bytes == 0x7fb429420000 @  0x7fb61aafe1e7 0x7fb617d4341e 0x7fb617d93c2b 0x7fb617d9430f 0x7fb617e360a3 0x50a4a5 0x50cc96 0x507be4 0x509900 0x50a2fd 0x50cc96 0x507be4 0x509900 0x50a2fd 0x50cc96 0x507be4 0x509900 0x50a2fd 0x50cc96 0x5095c8 0x50a2fd 0x50beb4 0x507be4 0x509900 0x50a2fd 0x50beb4 0x507be4 0x509900 0x50a2fd 0x50cc96 0x507be4\n",
      "tcmalloc: large alloc 4294967296 bytes == 0x7fb32841e000 @  0x7fb61aafe1e7 0x7fb617d4341e 0x7fb617d93c2b 0x7fb617d9430f 0x7fb5c36830c5 0x7fb5c3006902 0x7fb5c3006eb2 0x7fb5c2fbfc3e 0x50a12f 0x50beb4 0x5095c8 0x50a2fd 0x50beb4 0x507be4 0x588c8b 0x59fd0e 0x50d256 0x507be4 0x509900 0x50a2fd 0x50beb4 0x507be4 0x509900 0x50a2fd 0x50beb4 0x5095c8 0x50a2fd 0x50beb4 0x507be4 0x508ec2 0x594a01\n",
      "\n",
      "Training options:\n",
      "{\n",
      "  \"G_args\": {\n",
      "    \"func_name\": \"training.networks.G_main\",\n",
      "    \"fmap_base\": 8192,\n",
      "    \"fmap_max\": 512,\n",
      "    \"mapping_layers\": 2,\n",
      "    \"num_fp16_res\": 4,\n",
      "    \"conv_clamp\": 256\n",
      "  },\n",
      "  \"D_args\": {\n",
      "    \"func_name\": \"training.networks.D_main\",\n",
      "    \"mbstd_group_size\": 4,\n",
      "    \"fmap_base\": 8192,\n",
      "    \"fmap_max\": 512,\n",
      "    \"num_fp16_res\": 4,\n",
      "    \"conv_clamp\": 256\n",
      "  },\n",
      "  \"G_opt_args\": {\n",
      "    \"beta1\": 0.0,\n",
      "    \"beta2\": 0.99,\n",
      "    \"learning_rate\": 0.0025\n",
      "  },\n",
      "  \"D_opt_args\": {\n",
      "    \"beta1\": 0.0,\n",
      "    \"beta2\": 0.99,\n",
      "    \"learning_rate\": 0.0025\n",
      "  },\n",
      "  \"loss_args\": {\n",
      "    \"func_name\": \"training.loss.stylegan2\",\n",
      "    \"r1_gamma\": 1\n",
      "  },\n",
      "  \"augment_args\": {\n",
      "    \"class_name\": \"training.augment.AdaptiveAugment\",\n",
      "    \"tune_heuristic\": \"rt\",\n",
      "    \"tune_target\": 0.6,\n",
      "    \"apply_func\": \"training.augment.augment_pipeline\",\n",
      "    \"apply_args\": {\n",
      "      \"xflip\": 1,\n",
      "      \"rotate90\": 1,\n",
      "      \"xint\": 1,\n",
      "      \"scale\": 1,\n",
      "      \"rotate\": 1,\n",
      "      \"aniso\": 1,\n",
      "      \"xfrac\": 1,\n",
      "      \"brightness\": 1,\n",
      "      \"contrast\": 1,\n",
      "      \"lumaflip\": 1,\n",
      "      \"hue\": 1,\n",
      "      \"saturation\": 1\n",
      "    }\n",
      "  },\n",
      "  \"num_gpus\": 1,\n",
      "  \"image_snapshot_ticks\": 10,\n",
      "  \"network_snapshot_ticks\": 30,\n",
      "  \"train_dataset_args\": {\n",
      "    \"path\": \"/content/datasets/bonn\",\n",
      "    \"max_label_size\": 0,\n",
      "    \"resolution\": 128,\n",
      "    \"mirror_augment\": true\n",
      "  },\n",
      "  \"metric_arg_list\": [],\n",
      "  \"metric_dataset_args\": {\n",
      "    \"path\": \"/content/datasets/bonn\",\n",
      "    \"max_label_size\": 0,\n",
      "    \"resolution\": 128,\n",
      "    \"mirror_augment\": true\n",
      "  },\n",
      "  \"total_kimg\": 50000,\n",
      "  \"minibatch_size\": 32,\n",
      "  \"minibatch_gpu\": 32,\n",
      "  \"G_smoothing_kimg\": 10.0,\n",
      "  \"G_smoothing_rampup\": 0.05,\n",
      "  \"run_dir\": \"/content/saves/00000-bonn-mirror-auto_tuned1-kimg50000\"\n",
      "}\n",
      "\n",
      "Output directory:  /content/saves/00000-bonn-mirror-auto_tuned1-kimg50000\n",
      "Training data:     /content/datasets/bonn\n",
      "Training length:   50000 kimg\n",
      "Resolution:        128\n",
      "Number of GPUs:    1\n",
      "\n",
      "Creating output directory...\n",
      "Loading training set...\n",
      "tcmalloc: large alloc 4294967296 bytes == 0x7ab8000 @  0x7fb61ab00001 0x7fb617d434ff 0x7fb617d93b08 0x7fb617d97ac7 0x7fb617e361a3 0x50a4a5 0x50cc96 0x507be4 0x508ec2 0x594a01 0x549e8f 0x5515c1 0x5a9dac 0x50a433 0x50cc96 0x507be4 0x588e5c 0x59fd0e 0x50d256 0x507be4 0x588e5c 0x59fd0e 0x50d256 0x507be4 0x588e5c 0x59fd0e 0x50d256 0x5095c8 0x50a2fd 0x50beb4 0x507be4\n",
      "tcmalloc: large alloc 4294967296 bytes == 0x7fb21a2b2000 @  0x7fb61aafe1e7 0x7fb617d4341e 0x7fb617d93c2b 0x7fb617d9430f 0x7fb617e360a3 0x50a4a5 0x50cc96 0x507be4 0x509900 0x50a2fd 0x50cc96 0x507be4 0x509900 0x50a2fd 0x50cc96 0x507be4 0x509900 0x50a2fd 0x50cc96 0x5095c8 0x50a2fd 0x50beb4 0x507be4 0x509900 0x50a2fd 0x50beb4 0x507be4 0x509900 0x50a2fd 0x50cc96 0x507be4\n",
      "tcmalloc: large alloc 4294967296 bytes == 0x7fb21a2b2000 @  0x7fb61aafe1e7 0x7fb617d4341e 0x7fb617d93c2b 0x7fb617d9430f 0x7fb5c36830c5 0x7fb5c3006902 0x7fb5c3006eb2 0x7fb5c2fbfc3e 0x50a12f 0x50beb4 0x5095c8 0x50a2fd 0x50beb4 0x507be4 0x588c8b 0x59fd0e 0x50d256 0x507be4 0x509900 0x50a2fd 0x50beb4 0x507be4 0x509900 0x50a2fd 0x50beb4 0x5095c8 0x50a2fd 0x50beb4 0x507be4 0x508ec2 0x594a01\n",
      "Image shape: [3, 128, 128]\n",
      "Label shape: [0]\n",
      "\n",
      "Constructing networks...\n",
      "Setting up TensorFlow plugin \"fused_bias_act.cu\": Compiling... Loading... Done.\n",
      "Setting up TensorFlow plugin \"upfirdn_2d.cu\": Compiling... Loading... Done.\n",
      "\n",
      "G                             Params    OutputShape         WeightShape     \n",
      "---                           ---       ---                 ---             \n",
      "latents_in                    -         (?, 512)            -               \n",
      "labels_in                     -         (?, 0)              -               \n",
      "G_mapping/Normalize           -         (?, 512)            -               \n",
      "G_mapping/Dense0              262656    (?, 512)            (512, 512)      \n",
      "G_mapping/Dense1              262656    (?, 512)            (512, 512)      \n",
      "G_mapping/Broadcast           -         (?, 12, 512)        -               \n",
      "dlatent_avg                   -         (512,)              -               \n",
      "Truncation/Lerp               -         (?, 12, 512)        -               \n",
      "G_synthesis/4x4/Const         8192      (?, 512, 4, 4)      (1, 512, 4, 4)  \n",
      "G_synthesis/4x4/Conv          2622465   (?, 512, 4, 4)      (3, 3, 512, 512)\n",
      "G_synthesis/4x4/ToRGB         264195    (?, 3, 4, 4)        (1, 1, 512, 3)  \n",
      "G_synthesis/8x8/Conv0_up      2622465   (?, 512, 8, 8)      (3, 3, 512, 512)\n",
      "G_synthesis/8x8/Conv1         2622465   (?, 512, 8, 8)      (3, 3, 512, 512)\n",
      "G_synthesis/8x8/Upsample      -         (?, 3, 8, 8)        -               \n",
      "G_synthesis/8x8/ToRGB         264195    (?, 3, 8, 8)        (1, 1, 512, 3)  \n",
      "G_synthesis/16x16/Conv0_up    2622465   (?, 512, 16, 16)    (3, 3, 512, 512)\n",
      "G_synthesis/16x16/Conv1       2622465   (?, 512, 16, 16)    (3, 3, 512, 512)\n",
      "G_synthesis/16x16/Upsample    -         (?, 3, 16, 16)      -               \n",
      "G_synthesis/16x16/ToRGB       264195    (?, 3, 16, 16)      (1, 1, 512, 3)  \n",
      "G_synthesis/32x32/Conv0_up    2622465   (?, 512, 32, 32)    (3, 3, 512, 512)\n",
      "G_synthesis/32x32/Conv1       2622465   (?, 512, 32, 32)    (3, 3, 512, 512)\n",
      "G_synthesis/32x32/Upsample    -         (?, 3, 32, 32)      -               \n",
      "G_synthesis/32x32/ToRGB       264195    (?, 3, 32, 32)      (1, 1, 512, 3)  \n",
      "G_synthesis/64x64/Conv0_up    1442561   (?, 256, 64, 64)    (3, 3, 512, 256)\n",
      "G_synthesis/64x64/Conv1       721409    (?, 256, 64, 64)    (3, 3, 256, 256)\n",
      "G_synthesis/64x64/Upsample    -         (?, 3, 64, 64)      -               \n",
      "G_synthesis/64x64/ToRGB       132099    (?, 3, 64, 64)      (1, 1, 256, 3)  \n",
      "G_synthesis/128x128/Conv0_up  426369    (?, 128, 128, 128)  (3, 3, 256, 128)\n",
      "G_synthesis/128x128/Conv1     213249    (?, 128, 128, 128)  (3, 3, 128, 128)\n",
      "G_synthesis/128x128/Upsample  -         (?, 3, 128, 128)    -               \n",
      "G_synthesis/128x128/ToRGB     66051     (?, 3, 128, 128)    (1, 1, 128, 3)  \n",
      "---                           ---       ---                 ---             \n",
      "Total                         22949277                                      \n",
      "\n",
      "\n",
      "D                    Params    OutputShape         WeightShape     \n",
      "---                  ---       ---                 ---             \n",
      "images_in            -         (?, 3, 128, 128)    -               \n",
      "labels_in            -         (?, 0)              -               \n",
      "128x128/FromRGB      512       (?, 128, 128, 128)  (1, 1, 3, 128)  \n",
      "128x128/Conv0        147584    (?, 128, 128, 128)  (3, 3, 128, 128)\n",
      "128x128/Conv1_down   295168    (?, 256, 64, 64)    (3, 3, 128, 256)\n",
      "128x128/Skip         32768     (?, 256, 64, 64)    (1, 1, 128, 256)\n",
      "64x64/Conv0          590080    (?, 256, 64, 64)    (3, 3, 256, 256)\n",
      "64x64/Conv1_down     1180160   (?, 512, 32, 32)    (3, 3, 256, 512)\n",
      "64x64/Skip           131072    (?, 512, 32, 32)    (1, 1, 256, 512)\n",
      "32x32/Conv0          2359808   (?, 512, 32, 32)    (3, 3, 512, 512)\n",
      "32x32/Conv1_down     2359808   (?, 512, 16, 16)    (3, 3, 512, 512)\n",
      "32x32/Skip           262144    (?, 512, 16, 16)    (1, 1, 512, 512)\n",
      "16x16/Conv0          2359808   (?, 512, 16, 16)    (3, 3, 512, 512)\n",
      "16x16/Conv1_down     2359808   (?, 512, 8, 8)      (3, 3, 512, 512)\n",
      "16x16/Skip           262144    (?, 512, 8, 8)      (1, 1, 512, 512)\n",
      "8x8/Conv0            2359808   (?, 512, 8, 8)      (3, 3, 512, 512)\n",
      "8x8/Conv1_down       2359808   (?, 512, 4, 4)      (3, 3, 512, 512)\n",
      "8x8/Skip             262144    (?, 512, 4, 4)      (1, 1, 512, 512)\n",
      "4x4/MinibatchStddev  -         (?, 513, 4, 4)      -               \n",
      "4x4/Conv             2364416   (?, 512, 4, 4)      (3, 3, 513, 512)\n",
      "4x4/Dense0           4194816   (?, 512)            (8192, 512)     \n",
      "Output               513       (?, 1)              (512, 1)        \n",
      "---                  ---       ---                 ---             \n",
      "Total                23882369                                      \n",
      "\n",
      "Exporting sample images...\n",
      "2021-01-25 23:26:58.461253: W tensorflow/core/framework/cpu_allocator_impl.cc:81] Allocation of 50331648 exceeds 10% of system memory.\n",
      "Replicating networks across 1 GPUs...\n",
      "Initializing augmentations...\n",
      "Setting up optimizers...\n",
      "Constructing training graph...\n",
      "Finalizing training ops...\n",
      "Initializing metrics...\n",
      "Training for 50000 kimg...\n",
      "\n",
      "tick 0     kimg 0.1      time 1m 48s       sec/tick 14.9    sec/kimg 116.66  maintenance 93.0   gpumem 8.6   augment 0.000\n",
      "tick 1     kimg 4.2      time 3m 08s       sec/tick 57.9    sec/kimg 14.15   maintenance 22.3   gpumem 8.6   augment 0.006\n",
      "tick 2     kimg 8.3      time 4m 06s       sec/tick 57.8    sec/kimg 14.11   maintenance 0.0    gpumem 8.6   augment 0.012\n",
      "tick 3     kimg 12.4     time 5m 04s       sec/tick 57.8    sec/kimg 14.12   maintenance 0.0    gpumem 8.6   augment 0.016\n",
      "tick 4     kimg 16.5     time 6m 02s       sec/tick 58.0    sec/kimg 14.15   maintenance 0.0    gpumem 8.6   augment 0.022\n",
      "tick 5     kimg 20.6     time 7m 00s       sec/tick 57.9    sec/kimg 14.14   maintenance 0.0    gpumem 8.6   augment 0.027\n",
      "tick 6     kimg 24.7     time 7m 58s       sec/tick 58.1    sec/kimg 14.18   maintenance 0.0    gpumem 8.6   augment 0.031\n",
      "tick 7     kimg 28.8     time 8m 56s       sec/tick 58.0    sec/kimg 14.17   maintenance 0.0    gpumem 8.6   augment 0.038\n",
      "tick 8     kimg 32.9     time 9m 54s       sec/tick 58.0    sec/kimg 14.17   maintenance 0.0    gpumem 8.6   augment 0.043\n",
      "tick 9     kimg 37.0     time 10m 52s      sec/tick 58.1    sec/kimg 14.17   maintenance 0.0    gpumem 8.6   augment 0.047\n",
      "tick 10    kimg 41.1     time 11m 50s      sec/tick 58.1    sec/kimg 14.18   maintenance 0.0    gpumem 8.6   augment 0.053\n",
      "tick 11    kimg 45.2     time 12m 55s      sec/tick 58.1    sec/kimg 14.20   maintenance 6.5    gpumem 8.6   augment 0.059\n",
      "tick 12    kimg 49.3     time 13m 53s      sec/tick 58.0    sec/kimg 14.15   maintenance 0.0    gpumem 8.6   augment 0.063\n",
      "tick 13    kimg 53.4     time 14m 51s      sec/tick 58.1    sec/kimg 14.18   maintenance 0.0    gpumem 8.6   augment 0.068\n",
      "tick 14    kimg 57.5     time 15m 49s      sec/tick 58.1    sec/kimg 14.19   maintenance 0.0    gpumem 8.6   augment 0.072\n",
      "tick 15    kimg 61.6     time 16m 47s      sec/tick 58.0    sec/kimg 14.16   maintenance 0.0    gpumem 8.6   augment 0.077\n",
      "tick 16    kimg 65.7     time 17m 45s      sec/tick 58.1    sec/kimg 14.17   maintenance 0.0    gpumem 8.6   augment 0.078\n",
      "tick 17    kimg 69.8     time 18m 43s      sec/tick 58.2    sec/kimg 14.20   maintenance 0.0    gpumem 8.6   augment 0.080\n",
      "tick 18    kimg 73.9     time 19m 41s      sec/tick 58.0    sec/kimg 14.16   maintenance 0.0    gpumem 8.6   augment 0.083\n",
      "tick 19    kimg 78.0     time 20m 39s      sec/tick 58.2    sec/kimg 14.20   maintenance 0.0    gpumem 8.6   augment 0.086\n",
      "tick 20    kimg 82.0     time 21m 38s      sec/tick 58.3    sec/kimg 14.22   maintenance 0.0    gpumem 8.6   augment 0.085\n",
      "tick 21    kimg 86.1     time 22m 45s      sec/tick 58.1    sec/kimg 14.19   maintenance 9.2    gpumem 8.6   augment 0.084\n",
      "tick 22    kimg 90.2     time 23m 43s      sec/tick 58.3    sec/kimg 14.23   maintenance 0.0    gpumem 8.6   augment 0.084\n",
      "tick 23    kimg 94.3     time 24m 41s      sec/tick 58.2    sec/kimg 14.21   maintenance 0.0    gpumem 8.6   augment 0.084\n",
      "tick 24    kimg 98.4     time 25m 40s      sec/tick 58.2    sec/kimg 14.20   maintenance 0.0    gpumem 8.6   augment 0.085\n",
      "tick 25    kimg 102.5    time 26m 38s      sec/tick 58.2    sec/kimg 14.22   maintenance 0.0    gpumem 8.6   augment 0.088\n"
     ]
    }
   ],
   "source": [
    "%cd /content\n",
    "!python stylegan2-ada/train.py \\\n",
    " --outdir='/content/saves' \\\n",
    " --snap=30 \\\n",
    " --im_snap=10 \\\n",
    " --gpus=1 \\\n",
    " --data='/content/datasets/bonn' \\\n",
    " --mirror=true \\\n",
    " --metrics=none \\\n",
    " --kimg=50000 \\\n",
    " --cfg=auto_tuned"
   ]
  },
  {
   "cell_type": "markdown",
   "metadata": {
    "id": "2FGozskE2gGM"
   },
   "source": [
    "#### Resume from latest snapshot"
   ]
  },
  {
   "cell_type": "code",
   "execution_count": null,
   "metadata": {
    "colab": {
     "base_uri": "https://localhost:8080/"
    },
    "id": "7s7cdAcU2l3x",
    "outputId": "3576be3f-da00-44c3-d19c-6e9c98f7f8b1"
   },
   "outputs": [
    {
     "name": "stdout",
     "output_type": "stream",
     "text": [
      "/content\n",
      "ClearML Task: continuing previous task id=3a669a7f263740cb8caa65ce269a4731 Notice this run will not be reproducible!\n",
      "ClearML results page: https://app.community.clear.ml/projects/945bd0c36255401197336ac56f0c2cc3/experiments/3a669a7f263740cb8caa65ce269a4731/output/log\n",
      "tcmalloc: large alloc 4294967296 bytes == 0x81be000 @  0x7f3c00e4e001 0x7f3bfe0914ff 0x7f3bfe0e1b08 0x7f3bfe0e5ac7 0x7f3bfe1841a3 0x50a4a5 0x50cc96 0x507be4 0x508ec2 0x594a01 0x549e8f 0x5515c1 0x5a9dac 0x50a433 0x50cc96 0x507be4 0x588e5c 0x59fd0e 0x50d256 0x507be4 0x588e5c 0x59fd0e 0x50d256 0x507be4 0x588e5c 0x59fd0e 0x50d256 0x5095c8 0x50a2fd 0x50beb4 0x507be4\n",
      "tcmalloc: large alloc 4294967296 bytes == 0x7f3a0fac6000 @  0x7f3c00e4c1e7 0x7f3bfe09141e 0x7f3bfe0e1c2b 0x7f3bfe0e230f 0x7f3bfe1840a3 0x50a4a5 0x50cc96 0x507be4 0x509900 0x50a2fd 0x50cc96 0x507be4 0x509900 0x50a2fd 0x50cc96 0x507be4 0x509900 0x50a2fd 0x50cc96 0x5095c8 0x50a2fd 0x50beb4 0x507be4 0x509900 0x50a2fd 0x50beb4 0x507be4 0x509900 0x50a2fd 0x50cc96 0x507be4\n",
      "tcmalloc: large alloc 4294967296 bytes == 0x7f390eac4000 @  0x7f3c00e4c1e7 0x7f3bfe09141e 0x7f3bfe0e1c2b 0x7f3bfe0e230f 0x7f3ba99d10c5 0x7f3ba9354902 0x7f3ba9354eb2 0x7f3ba930dc3e 0x50a12f 0x50beb4 0x5095c8 0x50a2fd 0x50beb4 0x507be4 0x588c8b 0x59fd0e 0x50d256 0x507be4 0x509900 0x50a2fd 0x50beb4 0x507be4 0x509900 0x50a2fd 0x50beb4 0x5095c8 0x50a2fd 0x50beb4 0x507be4 0x508ec2 0x594a01\n",
      "\n",
      "Training options:\n",
      "{\n",
      "  \"G_args\": {\n",
      "    \"func_name\": \"training.networks.G_main\",\n",
      "    \"fmap_base\": 8192,\n",
      "    \"fmap_max\": 512,\n",
      "    \"mapping_layers\": 2,\n",
      "    \"num_fp16_res\": 4,\n",
      "    \"conv_clamp\": 256\n",
      "  },\n",
      "  \"D_args\": {\n",
      "    \"func_name\": \"training.networks.D_main\",\n",
      "    \"mbstd_group_size\": 4,\n",
      "    \"fmap_base\": 8192,\n",
      "    \"fmap_max\": 512,\n",
      "    \"num_fp16_res\": 4,\n",
      "    \"conv_clamp\": 256\n",
      "  },\n",
      "  \"G_opt_args\": {\n",
      "    \"beta1\": 0.0,\n",
      "    \"beta2\": 0.99,\n",
      "    \"learning_rate\": 0.0025\n",
      "  },\n",
      "  \"D_opt_args\": {\n",
      "    \"beta1\": 0.0,\n",
      "    \"beta2\": 0.99,\n",
      "    \"learning_rate\": 0.0025\n",
      "  },\n",
      "  \"loss_args\": {\n",
      "    \"func_name\": \"training.loss.stylegan2\",\n",
      "    \"r1_gamma\": 1\n",
      "  },\n",
      "  \"augment_args\": {\n",
      "    \"class_name\": \"training.augment.AdaptiveAugment\",\n",
      "    \"tune_heuristic\": \"rt\",\n",
      "    \"tune_target\": 0.6,\n",
      "    \"initial_strength\": 0.344,\n",
      "    \"apply_func\": \"training.augment.augment_pipeline\",\n",
      "    \"apply_args\": {\n",
      "      \"xflip\": 1,\n",
      "      \"rotate90\": 1,\n",
      "      \"xint\": 1,\n",
      "      \"scale\": 1,\n",
      "      \"rotate\": 1,\n",
      "      \"aniso\": 1,\n",
      "      \"xfrac\": 1,\n",
      "      \"brightness\": 1,\n",
      "      \"contrast\": 1,\n",
      "      \"lumaflip\": 1,\n",
      "      \"hue\": 1,\n",
      "      \"saturation\": 1\n",
      "    },\n",
      "    \"tune_kimg\": 100\n",
      "  },\n",
      "  \"num_gpus\": 1,\n",
      "  \"image_snapshot_ticks\": 10,\n",
      "  \"network_snapshot_ticks\": 30,\n",
      "  \"train_dataset_args\": {\n",
      "    \"path\": \"/content/datasets/bonn\",\n",
      "    \"max_label_size\": 0,\n",
      "    \"resolution\": 128,\n",
      "    \"mirror_augment\": true\n",
      "  },\n",
      "  \"metric_arg_list\": [],\n",
      "  \"metric_dataset_args\": {\n",
      "    \"path\": \"/content/datasets/bonn\",\n",
      "    \"max_label_size\": 0,\n",
      "    \"resolution\": 128,\n",
      "    \"mirror_augment\": true\n",
      "  },\n",
      "  \"total_kimg\": 50000,\n",
      "  \"minibatch_size\": 32,\n",
      "  \"minibatch_gpu\": 32,\n",
      "  \"G_smoothing_kimg\": 10.0,\n",
      "  \"G_smoothing_rampup\": null,\n",
      "  \"resume_pkl\": \"/content/Unetiq-ARNO_StyleGAN2-ada-128x-v0.3eab7dd328b245e3ae0a3fc471ae4be8_artifacts_network-snapshot-009092.pkl_network-snapshot-009092.pkl.pkl\",\n",
      "  \"run_dir\": \"/content/saves/00001-bonn-mirror-auto_tuned1-kimg50000-p0.344-resumecustom\"\n",
      "}\n",
      "\n",
      "Output directory:  /content/saves/00001-bonn-mirror-auto_tuned1-kimg50000-p0.344-resumecustom\n",
      "Training data:     /content/datasets/bonn\n",
      "Training length:   50000 kimg\n",
      "Resolution:        128\n",
      "Number of GPUs:    1\n",
      "\n",
      "Creating output directory...\n",
      "Loading training set...\n",
      "tcmalloc: large alloc 4294967296 bytes == 0x81be000 @  0x7f3c00e4e001 0x7f3bfe0914ff 0x7f3bfe0e1b08 0x7f3bfe0e5ac7 0x7f3bfe1841a3 0x50a4a5 0x50cc96 0x507be4 0x508ec2 0x594a01 0x549e8f 0x5515c1 0x5a9dac 0x50a433 0x50cc96 0x507be4 0x588e5c 0x59fd0e 0x50d256 0x507be4 0x588e5c 0x59fd0e 0x50d256 0x507be4 0x588e5c 0x59fd0e 0x50d256 0x5095c8 0x50a2fd 0x50beb4 0x507be4\n",
      "tcmalloc: large alloc 4294967296 bytes == 0x7f38005e2000 @  0x7f3c00e4c1e7 0x7f3bfe09141e 0x7f3bfe0e1c2b 0x7f3bfe0e230f 0x7f3bfe1840a3 0x50a4a5 0x50cc96 0x507be4 0x509900 0x50a2fd 0x50cc96 0x507be4 0x509900 0x50a2fd 0x50cc96 0x507be4 0x509900 0x50a2fd 0x50cc96 0x5095c8 0x50a2fd 0x50beb4 0x507be4 0x509900 0x50a2fd 0x50beb4 0x507be4 0x509900 0x50a2fd 0x50cc96 0x507be4\n",
      "tcmalloc: large alloc 4294967296 bytes == 0x7f38005e2000 @  0x7f3c00e4c1e7 0x7f3bfe09141e 0x7f3bfe0e1c2b 0x7f3bfe0e230f 0x7f3ba99d10c5 0x7f3ba9354902 0x7f3ba9354eb2 0x7f3ba930dc3e 0x50a12f 0x50beb4 0x5095c8 0x50a2fd 0x50beb4 0x507be4 0x588c8b 0x59fd0e 0x50d256 0x507be4 0x509900 0x50a2fd 0x50beb4 0x507be4 0x509900 0x50a2fd 0x50beb4 0x5095c8 0x50a2fd 0x50beb4 0x507be4 0x508ec2 0x594a01\n",
      "Image shape: [3, 128, 128]\n",
      "Label shape: [0]\n",
      "\n",
      "Constructing networks...\n",
      "Setting up TensorFlow plugin \"fused_bias_act.cu\": Loading... Done.\n",
      "Setting up TensorFlow plugin \"upfirdn_2d.cu\": Loading... Done.\n",
      "Resuming from \"/content/Unetiq-ARNO_StyleGAN2-ada-128x-v0.3eab7dd328b245e3ae0a3fc471ae4be8_artifacts_network-snapshot-009092.pkl_network-snapshot-009092.pkl.pkl\"\n",
      "Resuming from kimg = 9092.0\n",
      "\n",
      "G                             Params    OutputShape         WeightShape     \n",
      "---                           ---       ---                 ---             \n",
      "latents_in                    -         (?, 512)            -               \n",
      "labels_in                     -         (?, 0)              -               \n",
      "G_mapping/Normalize           -         (?, 512)            -               \n",
      "G_mapping/Dense0              262656    (?, 512)            (512, 512)      \n",
      "G_mapping/Dense1              262656    (?, 512)            (512, 512)      \n",
      "G_mapping/Broadcast           -         (?, 12, 512)        -               \n",
      "dlatent_avg                   -         (512,)              -               \n",
      "Truncation/Lerp               -         (?, 12, 512)        -               \n",
      "G_synthesis/4x4/Const         8192      (?, 512, 4, 4)      (1, 512, 4, 4)  \n",
      "G_synthesis/4x4/Conv          2622465   (?, 512, 4, 4)      (3, 3, 512, 512)\n",
      "G_synthesis/4x4/ToRGB         264195    (?, 3, 4, 4)        (1, 1, 512, 3)  \n",
      "G_synthesis/8x8/Conv0_up      2622465   (?, 512, 8, 8)      (3, 3, 512, 512)\n",
      "G_synthesis/8x8/Conv1         2622465   (?, 512, 8, 8)      (3, 3, 512, 512)\n",
      "G_synthesis/8x8/Upsample      -         (?, 3, 8, 8)        -               \n",
      "G_synthesis/8x8/ToRGB         264195    (?, 3, 8, 8)        (1, 1, 512, 3)  \n",
      "G_synthesis/16x16/Conv0_up    2622465   (?, 512, 16, 16)    (3, 3, 512, 512)\n",
      "G_synthesis/16x16/Conv1       2622465   (?, 512, 16, 16)    (3, 3, 512, 512)\n",
      "G_synthesis/16x16/Upsample    -         (?, 3, 16, 16)      -               \n",
      "G_synthesis/16x16/ToRGB       264195    (?, 3, 16, 16)      (1, 1, 512, 3)  \n",
      "G_synthesis/32x32/Conv0_up    2622465   (?, 512, 32, 32)    (3, 3, 512, 512)\n",
      "G_synthesis/32x32/Conv1       2622465   (?, 512, 32, 32)    (3, 3, 512, 512)\n",
      "G_synthesis/32x32/Upsample    -         (?, 3, 32, 32)      -               \n",
      "G_synthesis/32x32/ToRGB       264195    (?, 3, 32, 32)      (1, 1, 512, 3)  \n",
      "G_synthesis/64x64/Conv0_up    1442561   (?, 256, 64, 64)    (3, 3, 512, 256)\n",
      "G_synthesis/64x64/Conv1       721409    (?, 256, 64, 64)    (3, 3, 256, 256)\n",
      "G_synthesis/64x64/Upsample    -         (?, 3, 64, 64)      -               \n",
      "G_synthesis/64x64/ToRGB       132099    (?, 3, 64, 64)      (1, 1, 256, 3)  \n",
      "G_synthesis/128x128/Conv0_up  426369    (?, 128, 128, 128)  (3, 3, 256, 128)\n",
      "G_synthesis/128x128/Conv1     213249    (?, 128, 128, 128)  (3, 3, 128, 128)\n",
      "G_synthesis/128x128/Upsample  -         (?, 3, 128, 128)    -               \n",
      "G_synthesis/128x128/ToRGB     66051     (?, 3, 128, 128)    (1, 1, 128, 3)  \n",
      "---                           ---       ---                 ---             \n",
      "Total                         22949277                                      \n",
      "\n",
      "\n",
      "D                    Params    OutputShape         WeightShape     \n",
      "---                  ---       ---                 ---             \n",
      "images_in            -         (?, 3, 128, 128)    -               \n",
      "labels_in            -         (?, 0)              -               \n",
      "128x128/FromRGB      512       (?, 128, 128, 128)  (1, 1, 3, 128)  \n",
      "128x128/Conv0        147584    (?, 128, 128, 128)  (3, 3, 128, 128)\n",
      "128x128/Conv1_down   295168    (?, 256, 64, 64)    (3, 3, 128, 256)\n",
      "128x128/Skip         32768     (?, 256, 64, 64)    (1, 1, 128, 256)\n",
      "64x64/Conv0          590080    (?, 256, 64, 64)    (3, 3, 256, 256)\n",
      "64x64/Conv1_down     1180160   (?, 512, 32, 32)    (3, 3, 256, 512)\n",
      "64x64/Skip           131072    (?, 512, 32, 32)    (1, 1, 256, 512)\n",
      "32x32/Conv0          2359808   (?, 512, 32, 32)    (3, 3, 512, 512)\n",
      "32x32/Conv1_down     2359808   (?, 512, 16, 16)    (3, 3, 512, 512)\n",
      "32x32/Skip           262144    (?, 512, 16, 16)    (1, 1, 512, 512)\n",
      "16x16/Conv0          2359808   (?, 512, 16, 16)    (3, 3, 512, 512)\n",
      "16x16/Conv1_down     2359808   (?, 512, 8, 8)      (3, 3, 512, 512)\n",
      "16x16/Skip           262144    (?, 512, 8, 8)      (1, 1, 512, 512)\n",
      "8x8/Conv0            2359808   (?, 512, 8, 8)      (3, 3, 512, 512)\n",
      "8x8/Conv1_down       2359808   (?, 512, 4, 4)      (3, 3, 512, 512)\n",
      "8x8/Skip             262144    (?, 512, 4, 4)      (1, 1, 512, 512)\n",
      "4x4/MinibatchStddev  -         (?, 513, 4, 4)      -               \n",
      "4x4/Conv             2364416   (?, 512, 4, 4)      (3, 3, 513, 512)\n",
      "4x4/Dense0           4194816   (?, 512)            (8192, 512)     \n",
      "Output               513       (?, 1)              (512, 1)        \n",
      "---                  ---       ---                 ---             \n",
      "Total                23882369                                      \n",
      "\n",
      "Exporting sample images...\n",
      "Replicating networks across 1 GPUs...\n",
      "Initializing augmentations...\n",
      "Setting up optimizers...\n",
      "Constructing training graph...\n",
      "Finalizing training ops...\n",
      "Initializing metrics...\n",
      "Training for 50000 kimg...\n",
      "\n",
      "tick 0     kimg 9092.1   time 1m 11s       sec/tick 15.0    sec/kimg 117.49  maintenance 56.4   gpumem 8.6   augment 0.345\n",
      "tick 1     kimg 9096.2   time 2m 30s       sec/tick 57.6    sec/kimg 14.06   maintenance 21.0   gpumem 8.6   augment 0.363\n",
      "tick 2     kimg 9100.3   time 3m 28s       sec/tick 57.9    sec/kimg 14.13   maintenance 0.0    gpumem 8.6   augment 0.373\n",
      "tick 3     kimg 9104.4   time 4m 26s       sec/tick 57.7    sec/kimg 14.10   maintenance 0.0    gpumem 8.6   augment 0.371\n",
      "tick 4     kimg 9108.5   time 5m 23s       sec/tick 57.8    sec/kimg 14.10   maintenance 0.0    gpumem 8.6   augment 0.379\n",
      "tick 5     kimg 9112.6   time 6m 21s       sec/tick 57.8    sec/kimg 14.11   maintenance 0.0    gpumem 8.6   augment 0.381\n",
      "tick 6     kimg 9116.7   time 7m 19s       sec/tick 57.9    sec/kimg 14.13   maintenance 0.0    gpumem 8.6   augment 0.381\n",
      "tick 7     kimg 9120.8   time 8m 17s       sec/tick 57.8    sec/kimg 14.12   maintenance 0.0    gpumem 8.6   augment 0.381\n",
      "tick 8     kimg 9124.9   time 9m 15s       sec/tick 57.8    sec/kimg 14.11   maintenance 0.0    gpumem 8.6   augment 0.384\n",
      "tick 9     kimg 9129.0   time 10m 13s      sec/tick 57.8    sec/kimg 14.12   maintenance 0.0    gpumem 8.6   augment 0.389\n",
      "tick 10    kimg 9133.1   time 11m 10s      sec/tick 57.7    sec/kimg 14.10   maintenance 0.0    gpumem 8.6   augment 0.376\n",
      "tick 11    kimg 9137.2   time 12m 16s      sec/tick 57.8    sec/kimg 14.12   maintenance 8.1    gpumem 8.6   augment 0.366\n",
      "tick 12    kimg 9141.3   time 13m 14s      sec/tick 57.7    sec/kimg 14.08   maintenance 0.0    gpumem 8.6   augment 0.368\n",
      "tick 13    kimg 9145.4   time 14m 12s      sec/tick 57.7    sec/kimg 14.08   maintenance 0.0    gpumem 8.6   augment 0.358\n",
      "tick 14    kimg 9149.5   time 15m 09s      sec/tick 57.8    sec/kimg 14.11   maintenance 0.0    gpumem 8.6   augment 0.358\n",
      "tick 15    kimg 9153.6   time 16m 07s      sec/tick 57.8    sec/kimg 14.10   maintenance 0.0    gpumem 8.6   augment 0.358\n",
      "tick 16    kimg 9157.7   time 17m 05s      sec/tick 57.8    sec/kimg 14.11   maintenance 0.0    gpumem 8.6   augment 0.343\n",
      "tick 17    kimg 9161.8   time 18m 03s      sec/tick 57.7    sec/kimg 14.10   maintenance 0.0    gpumem 8.6   augment 0.345\n",
      "tick 18    kimg 9165.9   time 19m 01s      sec/tick 57.7    sec/kimg 14.10   maintenance 0.0    gpumem 8.6   augment 0.353\n",
      "tick 19    kimg 9170.0   time 19m 58s      sec/tick 57.7    sec/kimg 14.10   maintenance 0.0    gpumem 8.6   augment 0.350\n",
      "tick 20    kimg 9174.0   time 20m 56s      sec/tick 57.7    sec/kimg 14.09   maintenance 0.0    gpumem 8.6   augment 0.350\n",
      "tick 21    kimg 9178.1   time 22m 02s      sec/tick 57.7    sec/kimg 14.10   maintenance 7.9    gpumem 8.6   augment 0.343\n",
      "tick 22    kimg 9182.2   time 22m 59s      sec/tick 57.7    sec/kimg 14.09   maintenance 0.0    gpumem 8.6   augment 0.356\n",
      "tick 23    kimg 9186.3   time 23m 57s      sec/tick 57.7    sec/kimg 14.08   maintenance 0.0    gpumem 8.6   augment 0.353\n",
      "tick 24    kimg 9190.4   time 24m 55s      sec/tick 57.7    sec/kimg 14.08   maintenance 0.0    gpumem 8.6   augment 0.356\n",
      "tick 25    kimg 9194.5   time 25m 52s      sec/tick 57.7    sec/kimg 14.09   maintenance 0.0    gpumem 8.6   augment 0.343\n",
      "tick 26    kimg 9198.6   time 26m 50s      sec/tick 57.8    sec/kimg 14.11   maintenance 0.0    gpumem 8.6   augment 0.345\n",
      "tick 27    kimg 9202.7   time 27m 48s      sec/tick 57.8    sec/kimg 14.10   maintenance 0.0    gpumem 8.6   augment 0.338\n",
      "tick 28    kimg 9206.8   time 28m 46s      sec/tick 57.7    sec/kimg 14.08   maintenance 0.0    gpumem 8.6   augment 0.330\n",
      "tick 29    kimg 9210.9   time 29m 43s      sec/tick 57.7    sec/kimg 14.09   maintenance 0.0    gpumem 8.6   augment 0.332\n",
      "tick 30    kimg 9215.0   time 30m 41s      sec/tick 57.8    sec/kimg 14.10   maintenance 0.0    gpumem 8.6   augment 0.335\n",
      "tick 31    kimg 9219.1   time 31m 50s      sec/tick 57.8    sec/kimg 14.10   maintenance 11.3   gpumem 8.6   augment 0.345\n",
      "tick 32    kimg 9223.2   time 32m 48s      sec/tick 57.8    sec/kimg 14.12   maintenance 0.0    gpumem 8.6   augment 0.343\n",
      "tick 33    kimg 9227.3   time 33m 46s      sec/tick 57.8    sec/kimg 14.11   maintenance 0.0    gpumem 8.6   augment 0.335\n",
      "tick 34    kimg 9231.4   time 34m 44s      sec/tick 57.9    sec/kimg 14.13   maintenance 0.0    gpumem 8.6   augment 0.332\n",
      "tick 35    kimg 9235.5   time 35m 42s      sec/tick 57.8    sec/kimg 14.11   maintenance 0.0    gpumem 8.6   augment 0.338\n",
      "tick 36    kimg 9239.6   time 36m 40s      sec/tick 57.9    sec/kimg 14.13   maintenance 0.0    gpumem 8.6   augment 0.348\n",
      "tick 37    kimg 9243.7   time 37m 37s      sec/tick 57.8    sec/kimg 14.12   maintenance 0.0    gpumem 8.6   augment 0.348\n",
      "tick 38    kimg 9247.8   time 38m 35s      sec/tick 57.8    sec/kimg 14.10   maintenance 0.0    gpumem 8.6   augment 0.345\n",
      "tick 39    kimg 9251.9   time 39m 33s      sec/tick 57.8    sec/kimg 14.12   maintenance 0.0    gpumem 8.6   augment 0.356\n",
      "tick 40    kimg 9256.0   time 40m 31s      sec/tick 57.7    sec/kimg 14.09   maintenance 0.0    gpumem 8.6   augment 0.350\n",
      "tick 41    kimg 9260.1   time 41m 36s      sec/tick 57.7    sec/kimg 14.09   maintenance 7.7    gpumem 8.6   augment 0.350\n",
      "tick 42    kimg 9264.2   time 42m 34s      sec/tick 57.7    sec/kimg 14.10   maintenance 0.0    gpumem 8.6   augment 0.353\n",
      "tick 43    kimg 9268.3   time 43m 32s      sec/tick 57.8    sec/kimg 14.10   maintenance 0.0    gpumem 8.6   augment 0.358\n",
      "tick 44    kimg 9272.4   time 44m 29s      sec/tick 57.7    sec/kimg 14.09   maintenance 0.0    gpumem 8.6   augment 0.363\n",
      "tick 45    kimg 9276.4   time 45m 27s      sec/tick 57.7    sec/kimg 14.09   maintenance 0.0    gpumem 8.6   augment 0.356\n",
      "tick 46    kimg 9280.5   time 46m 25s      sec/tick 57.7    sec/kimg 14.08   maintenance 0.0    gpumem 8.6   augment 0.353\n",
      "tick 47    kimg 9284.6   time 47m 23s      sec/tick 57.7    sec/kimg 14.08   maintenance 0.0    gpumem 8.6   augment 0.356\n",
      "tick 48    kimg 9288.7   time 48m 20s      sec/tick 57.7    sec/kimg 14.09   maintenance 0.0    gpumem 8.6   augment 0.353\n",
      "tick 49    kimg 9292.8   time 49m 18s      sec/tick 57.7    sec/kimg 14.10   maintenance 0.0    gpumem 8.6   augment 0.350\n",
      "tick 50    kimg 9296.9   time 50m 16s      sec/tick 57.7    sec/kimg 14.09   maintenance 0.0    gpumem 8.6   augment 0.358\n",
      "tick 51    kimg 9301.0   time 51m 21s      sec/tick 57.9    sec/kimg 14.13   maintenance 7.7    gpumem 8.6   augment 0.356\n"
     ]
    }
   ],
   "source": [
    "%cd /content\n",
    "!python stylegan2-ada/train.py \\\n",
    " --outdir='/content/saves' \\\n",
    " --snap=30 \\\n",
    " --im_snap=10 \\\n",
    " --gpus=1 \\\n",
    " --data='/content/datasets/bonn' \\\n",
    " --mirror=true \\\n",
    " --metrics=none \\\n",
    " --resume='/content/Unetiq-ARNO_StyleGAN2-ada-128x-v0.3eab7dd328b245e3ae0a3fc471ae4be8_artifacts_network-snapshot-009092.pkl_network-snapshot-009092.pkl.pkl' \\\n",
    " --kimg=50000 \\\n",
    " --cfg=auto_tuned \\\n",
    " --p=0.344"
   ]
  },
  {
   "cell_type": "markdown",
   "metadata": {},
   "source": [
    "# Generate images"
   ]
  },
  {
   "cell_type": "code",
   "execution_count": 14,
   "metadata": {},
   "outputs": [
    {
     "name": "stdout",
     "output_type": "stream",
     "text": [
      "/content\n"
     ]
    }
   ],
   "source": [
    "%cd /content"
   ]
  },
  {
   "cell_type": "code",
   "execution_count": 13,
   "metadata": {},
   "outputs": [],
   "source": [
    "num_images = 20\n",
    "network_pkl = '/content/network-snapshot-013761.pkl'\n",
    "out = 'gen/'"
   ]
  },
  {
   "cell_type": "code",
   "execution_count": 18,
   "metadata": {},
   "outputs": [],
   "source": [
    "# !python stylegan2-ada/generate.py --network={network_pkl} --outdir=out/notrunc0 --trunc=1.0 --seeds=0-{num_images-1}"
   ]
  },
  {
   "cell_type": "code",
   "execution_count": 19,
   "metadata": {},
   "outputs": [],
   "source": [
    "# !python stylegan2-ada/generate.py --network={network_pkl} --outdir=out/trunc0 --trunc=0.5 --seeds=0-{num_images-1}"
   ]
  },
  {
   "cell_type": "code",
   "execution_count": 21,
   "metadata": {},
   "outputs": [
    {
     "name": "stdout",
     "output_type": "stream",
     "text": [
      "Loading networks from \"/content/network-snapshot-013761.pkl\"...\n",
      "Setting up TensorFlow plugin \"fused_bias_act.cu\": Loading... Done.\n",
      "Setting up TensorFlow plugin \"upfirdn_2d.cu\": Loading... Done.\n"
     ]
    }
   ],
   "source": [
    "!python stylegan2-ada/generate_video.py --network={network_pkl} --outdir=out/trunc0 --trunc=0.5 --seeds=0-{num_images-1} --interpolation_size=60"
   ]
  },
  {
   "cell_type": "code",
   "execution_count": 22,
   "metadata": {},
   "outputs": [
    {
     "name": "stdout",
     "output_type": "stream",
     "text": [
      "Loading networks from \"/content/network-snapshot-013761.pkl\"...\n",
      "Setting up TensorFlow plugin \"fused_bias_act.cu\": Loading... Done.\n",
      "Setting up TensorFlow plugin \"upfirdn_2d.cu\": Loading... Done.\n"
     ]
    }
   ],
   "source": [
    "!python stylegan2-ada/generate_video.py --network={network_pkl} --outdir=out/notrunc0 --trunc=1 --seeds=0-{num_images-1} --interpolation_size=100"
   ]
  },
  {
   "cell_type": "code",
   "execution_count": null,
   "metadata": {},
   "outputs": [],
   "source": []
  },
  {
   "cell_type": "code",
   "execution_count": 23,
   "metadata": {},
   "outputs": [
    {
     "name": "stdout",
     "output_type": "stream",
     "text": [
      "Loading networks from \"/content/network-snapshot-013761.pkl\"...\n",
      "Setting up TensorFlow plugin \"fused_bias_act.cu\": Loading... Done.\n",
      "Setting up TensorFlow plugin \"upfirdn_2d.cu\": Loading... Done.\n",
      "Generating W vectors...\n",
      "Generating images...\n",
      "Generating style-mixed images...\n",
      "Saving images...\n",
      "Saving image grid...\n"
     ]
    }
   ],
   "source": [
    "!python stylegan2-ada/style_mixing.py --network={network_pkl} --outdir=out/mix0 --trunc=1.0 --rows=1,41,208,322,424,939 --cols=1,41,208,322,424,939"
   ]
  },
  {
   "cell_type": "code",
   "execution_count": 24,
   "metadata": {},
   "outputs": [
    {
     "name": "stdout",
     "output_type": "stream",
     "text": [
      "Loading networks from \"/content/network-snapshot-013761.pkl\"...\n",
      "Setting up TensorFlow plugin \"fused_bias_act.cu\": Loading... Done.\n",
      "Setting up TensorFlow plugin \"upfirdn_2d.cu\": Loading... Done.\n",
      "Generating W vectors...\n",
      "Generating images...\n",
      "Generating style-mixed images...\n",
      "Saving images...\n",
      "Saving image grid...\n"
     ]
    }
   ],
   "source": [
    "!python stylegan2-ada/style_mixing.py --network={network_pkl} --outdir=out/mix_trunc0 --trunc=0.5 --rows=1,41,208,322,424,939 --cols=1,41,208,322,424,939"
   ]
  },
  {
   "cell_type": "code",
   "execution_count": 32,
   "metadata": {},
   "outputs": [
    {
     "name": "stdout",
     "output_type": "stream",
     "text": [
      "Loading networks from \"/content/network-snapshot-013761.pkl\"...\n",
      "Setting up TensorFlow plugin \"fused_bias_act.cu\": Loading... Done.\n",
      "Setting up TensorFlow plugin \"upfirdn_2d.cu\": Loading... Done.\n",
      "Generating W vectors...\n",
      "Generating images...\n",
      "Generating style-mixed images...\n",
      "Saving images...\n",
      "Saving image grid...\n"
     ]
    }
   ],
   "source": [
    "!python stylegan2-ada/style_mixing.py --network={network_pkl} --outdir=out/mix1 --trunc=1.0 --rows=2,42,209,323,425,938 --cols=2,42,209,323,425,938\n"
   ]
  },
  {
   "cell_type": "code",
   "execution_count": null,
   "metadata": {},
   "outputs": [],
   "source": []
  },
  {
   "cell_type": "code",
   "execution_count": 29,
   "metadata": {},
   "outputs": [],
   "source": [
    "from PIL import Image\n",
    "\n",
    "image = Image.open('projector/im3.jpg')\n",
    "new_image = image.resize((128, 128))\n",
    "new_image.save('projector/im3.jpg')"
   ]
  },
  {
   "cell_type": "code",
   "execution_count": 31,
   "metadata": {},
   "outputs": [
    {
     "name": "stdout",
     "output_type": "stream",
     "text": [
      "Loading networks from \"/content/network-snapshot-013761.pkl\"...\n",
      "Setting up TensorFlow plugin \"fused_bias_act.cu\": Loading... Done.\n",
      "Setting up TensorFlow plugin \"upfirdn_2d.cu\": Loading... Done.\n",
      "Projector: Computing W midpoint and stddev using 10000 samples...\n",
      "Projector: std = 20.4242\n",
      "Projector: Setting up noise inputs...\n",
      "Projector: Building image output graph...\n",
      "Projector: Building loss graph...\n",
      "Projector: Building noise regularization graph...\n",
      "Projector: Setting up optimizer...\n",
      "Projector: Preparing target images...\n",
      "Projector: Initializing optimization state...\n",
      "100% 1000/1000 [00:54<00:00, 18.44it/s, dist=0.0704, loss=0.07] \n"
     ]
    }
   ],
   "source": [
    "!python stylegan2-ada/projector.py --network={network_pkl} --outdir=projector/3 --seed=0 --target=projector/im3.jpg"
   ]
  },
  {
   "cell_type": "code",
   "execution_count": null,
   "metadata": {},
   "outputs": [],
   "source": []
  },
  {
   "cell_type": "code",
   "execution_count": 40,
   "metadata": {},
   "outputs": [
    {
     "name": "stdout",
     "output_type": "stream",
     "text": [
      "Loading networks from \"/content/network-snapshot-013761.pkl\"...\n",
      "Setting up TensorFlow plugin \"fused_bias_act.cu\": Loading... Done.\n",
      "Setting up TensorFlow plugin \"upfirdn_2d.cu\": Loading... Done.\n"
     ]
    }
   ],
   "source": [
    "!python stylegan2-ada/generate_video_from_latents.py --network={network_pkl} --outdir=out/latents0 --trunc=1 \\\n",
    "    --dlatents1=/content/projector/1/dlatents.npz \\\n",
    "    --dlatents2=/content/projector/2/dlatents.npz \\\n",
    "    --interpolation_size=100\n"
   ]
  },
  {
   "cell_type": "code",
   "execution_count": null,
   "metadata": {},
   "outputs": [],
   "source": []
  }
 ],
 "metadata": {
  "accelerator": "GPU",
  "colab": {
   "collapsed_sections": [
    "sbWQ38fBoo4h",
    "g0oZRRs2KO5A",
    "ruo5KFL4yw0j",
    "Aj-3t7dM98dj",
    "iL6_7wnZKo3w",
    "uDtZ9CVSBvkZ",
    "BWxFpc-QkJOH",
    "UEzOo7gtBNvE",
    "imBVQY2bQyFN",
    "lUKiyWY22dzf"
   ],
   "machine_shape": "hm",
   "name": "StyleGAN2-ADA_training.ipynb",
   "provenance": []
  },
  "kernelspec": {
   "display_name": "Python 3",
   "language": "python",
   "name": "python3"
  },
  "language_info": {
   "codemirror_mode": {
    "name": "ipython",
    "version": 3
   },
   "file_extension": ".py",
   "mimetype": "text/x-python",
   "name": "python",
   "nbconvert_exporter": "python",
   "pygments_lexer": "ipython3",
   "version": "3.6.9"
  }
 },
 "nbformat": 4,
 "nbformat_minor": 4
}
