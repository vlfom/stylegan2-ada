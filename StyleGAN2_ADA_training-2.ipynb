{
 "cells": [
  {
   "cell_type": "markdown",
   "metadata": {
    "heading_collapsed": "true",
    "id": "8UDVO2FGKIQw"
   },
   "source": [
    "# StyleGAN2-ADA: training a model from scratch"
   ]
  },
  {
   "cell_type": "markdown",
   "metadata": {
    "id": "ruo5KFL4yw0j"
   },
   "source": [
    "## Prepare data"
   ]
  },
  {
   "cell_type": "code",
   "execution_count": 1,
   "metadata": {},
   "outputs": [
    {
     "name": "stdout",
     "output_type": "stream",
     "text": [
      "TensorFlow 1.x selected.\n"
     ]
    }
   ],
   "source": [
    "%tensorflow_version 1.x\n",
    "import tensorflow as tf"
   ]
  },
  {
   "cell_type": "code",
   "execution_count": 2,
   "metadata": {},
   "outputs": [],
   "source": [
    "zip_location = '/content/drive/MyDrive/Work/Regular/Unetiq/ARNO/datasets/Bonn/filtered_128_50k.zip'\n",
    "tf_data_location = '/content/drive/MyDrive/Work/Regular/Unetiq/ARNO/datasets/Bonn/tf_data/tf-dataset-bonn-labeled.zip'"
   ]
  },
  {
   "cell_type": "markdown",
   "metadata": {},
   "source": [
    "### Generate"
   ]
  },
  {
   "cell_type": "code",
   "execution_count": 3,
   "metadata": {
    "id": "56Vt8uJ9I78P"
   },
   "outputs": [],
   "source": [
    "# %%capture\n",
    "\n",
    "# # Unzip from Google Drive\n",
    "\n",
    "# %cd /content\n",
    "# !cp {zip_location} /content/\n",
    "# !unzip /content/filtered_128_50k.zip"
   ]
  },
  {
   "cell_type": "code",
   "execution_count": 4,
   "metadata": {},
   "outputs": [],
   "source": [
    "# # Process\n",
    "\n",
    "# %cd /content\n",
    "# !python stylegan2-ada/dataset_tool.py create_from_images /content/datasets/bonn /content/filtered_128/"
   ]
  },
  {
   "cell_type": "code",
   "execution_count": 5,
   "metadata": {},
   "outputs": [],
   "source": [
    "# # Upload generated results to GDrive\n",
    "\n",
    "# %cd /content/datasets\n",
    "# !zip -r tf-dataset-bonn-labeled.zip bonn\n",
    "# !cp /content/datasets/tf-dataset-bonn-labeled.zip {tf_data_location}"
   ]
  },
  {
   "cell_type": "markdown",
   "metadata": {},
   "source": [
    "### Load"
   ]
  },
  {
   "cell_type": "code",
   "execution_count": 6,
   "metadata": {},
   "outputs": [
    {
     "name": "stdout",
     "output_type": "stream",
     "text": [
      "Archive:  /content/datasets/tf-dataset-bonn-labeled.zip\n",
      "   creating: bonn/\n",
      "  inflating: bonn/bonn-r05.tfrecords  \n",
      "  inflating: bonn/bonn-r04.tfrecords  \n",
      "  inflating: bonn/bonn-r07.tfrecords  \n",
      "  inflating: bonn/bonn-r06.tfrecords  \n",
      "  inflating: bonn/bonn-rxx.labels    \n",
      "   creating: bonn/.ipynb_checkpoints/\n",
      "  inflating: bonn/bonn-r03.tfrecords  \n",
      "  inflating: bonn/bonn-r02.tfrecords  \n"
     ]
    }
   ],
   "source": [
    "# Load from GDrive directly\n",
    "\n",
    "!mkdir /content/datasets\n",
    "!cp {tf_data_location} /content/datasets/\n",
    "%cd /content/datasets\n",
    "!unzip /content/datasets/tf-dataset-bonn-labeled.zip"
   ]
  },
  {
   "cell_type": "markdown",
   "metadata": {
    "id": "RWpIjP7hKzJZ"
   },
   "source": [
    "## Train new networks"
   ]
  },
  {
   "cell_type": "code",
   "execution_count": 1,
   "metadata": {},
   "outputs": [],
   "source": [
    "# Configure ClearML\n",
    "\n",
    "import os\n",
    "\n",
    "os.environ[\"CLEARML_PROJECT_NAME\"] = \"Unetiq-ARNO\"\n",
    "os.environ[\"CLEARML_TASK_NAME\"] = \"StyleGAN2-ada-128x-v0\""
   ]
  },
  {
   "cell_type": "code",
   "execution_count": 8,
   "metadata": {},
   "outputs": [
    {
     "name": "stdout",
     "output_type": "stream",
     "text": [
      "ClearML Task: created new task id=054825127b064dd6b770fd3864d1e6a3\n",
      "2021-01-25 23:23:32,769 - clearml.Repository Detection - WARNING - Can't get branch information for git repo in /usr/local/lib/python3.6/dist-packages\n",
      "2021-01-25 23:23:32,779 - clearml.Repository Detection - WARNING - Can't get commit information for git repo in /usr/local/lib/python3.6/dist-packages\n",
      "2021-01-25 23:23:32,789 - clearml.Repository Detection - WARNING - Can't get root information for git repo in /usr/local/lib/python3.6/dist-packages\n",
      "2021-01-25 23:23:32,800 - clearml.Repository Detection - WARNING - Can't get status information for git repo in /usr/local/lib/python3.6/dist-packages\n",
      "2021-01-25 23:23:32,818 - clearml.Repository Detection - WARNING - Can't get diff information for git repo in /usr/local/lib/python3.6/dist-packages\n",
      "2021-01-25 23:23:32,830 - clearml.Repository Detection - WARNING - Can't get modified information for git repo in /usr/local/lib/python3.6/dist-packages\n",
      "ClearML results page: https://app.community.clear.ml/projects/945bd0c36255401197336ac56f0c2cc3/experiments/054825127b064dd6b770fd3864d1e6a3/output/log\n",
      "2021-01-25 23:23:38,423 - clearml.Task - WARNING - ### TASK STOPPED - USER ABORTED - STATUS CHANGED ###\n"
     ]
    }
   ],
   "source": [
    "# Set ClearML parameters\n",
    "\n",
    "from clearml import Task, Logger\n",
    "\n",
    "task = Task.init(project_name=os.environ[\"CLEARML_PROJECT_NAME\"], task_name=os.environ[\"CLEARML_TASK_NAME\"], continue_last_task=True)\n",
    "task.connect_configuration('/root/clearml.conf')\n",
    "logger = task.get_logger()\n",
    "logger.set_default_upload_destination(uri='gs://clearml-bucket-0')\n",
    "\n",
    "parameters = {\n",
    "    'model': 'stylegan2-ada',\n",
    "    'type':  'uncond',\n",
    "    'data':  'bonn-128-50k'\n",
    "}\n",
    "\n",
    "parameters = task.connect(parameters)\n",
    "\n",
    "task.mark_stopped()"
   ]
  },
  {
   "cell_type": "code",
   "execution_count": 2,
   "metadata": {},
   "outputs": [
    {
     "name": "stdout",
     "output_type": "stream",
     "text": [
      "TensorFlow 1.x selected.\n"
     ]
    }
   ],
   "source": [
    "# Switch to Tensorflow 1.x\n",
    "%tensorflow_version 1.x"
   ]
  },
  {
   "cell_type": "code",
   "execution_count": null,
   "metadata": {
    "id": "f8TWmeqExkda"
   },
   "outputs": [
    {
     "name": "stdout",
     "output_type": "stream",
     "text": [
      "/content\n",
      "ClearML Task: continuing previous task id=054825127b064dd6b770fd3864d1e6a3 Notice this run will not be reproducible!\n",
      "ClearML results page: https://app.community.clear.ml/projects/945bd0c36255401197336ac56f0c2cc3/experiments/054825127b064dd6b770fd3864d1e6a3/output/log\n",
      "tcmalloc: large alloc 4294967296 bytes == 0x7ab8000 @  0x7fb61ab00001 0x7fb617d434ff 0x7fb617d93b08 0x7fb617d97ac7 0x7fb617e361a3 0x50a4a5 0x50cc96 0x507be4 0x508ec2 0x594a01 0x549e8f 0x5515c1 0x5a9dac 0x50a433 0x50cc96 0x507be4 0x588e5c 0x59fd0e 0x50d256 0x507be4 0x588e5c 0x59fd0e 0x50d256 0x507be4 0x588e5c 0x59fd0e 0x50d256 0x5095c8 0x50a2fd 0x50beb4 0x507be4\n",
      "tcmalloc: large alloc 4294967296 bytes == 0x7fb429420000 @  0x7fb61aafe1e7 0x7fb617d4341e 0x7fb617d93c2b 0x7fb617d9430f 0x7fb617e360a3 0x50a4a5 0x50cc96 0x507be4 0x509900 0x50a2fd 0x50cc96 0x507be4 0x509900 0x50a2fd 0x50cc96 0x507be4 0x509900 0x50a2fd 0x50cc96 0x5095c8 0x50a2fd 0x50beb4 0x507be4 0x509900 0x50a2fd 0x50beb4 0x507be4 0x509900 0x50a2fd 0x50cc96 0x507be4\n",
      "tcmalloc: large alloc 4294967296 bytes == 0x7fb32841e000 @  0x7fb61aafe1e7 0x7fb617d4341e 0x7fb617d93c2b 0x7fb617d9430f 0x7fb5c36830c5 0x7fb5c3006902 0x7fb5c3006eb2 0x7fb5c2fbfc3e 0x50a12f 0x50beb4 0x5095c8 0x50a2fd 0x50beb4 0x507be4 0x588c8b 0x59fd0e 0x50d256 0x507be4 0x509900 0x50a2fd 0x50beb4 0x507be4 0x509900 0x50a2fd 0x50beb4 0x5095c8 0x50a2fd 0x50beb4 0x507be4 0x508ec2 0x594a01\n",
      "\n",
      "Training options:\n",
      "{\n",
      "  \"G_args\": {\n",
      "    \"func_name\": \"training.networks.G_main\",\n",
      "    \"fmap_base\": 8192,\n",
      "    \"fmap_max\": 512,\n",
      "    \"mapping_layers\": 2,\n",
      "    \"num_fp16_res\": 4,\n",
      "    \"conv_clamp\": 256\n",
      "  },\n",
      "  \"D_args\": {\n",
      "    \"func_name\": \"training.networks.D_main\",\n",
      "    \"mbstd_group_size\": 4,\n",
      "    \"fmap_base\": 8192,\n",
      "    \"fmap_max\": 512,\n",
      "    \"num_fp16_res\": 4,\n",
      "    \"conv_clamp\": 256\n",
      "  },\n",
      "  \"G_opt_args\": {\n",
      "    \"beta1\": 0.0,\n",
      "    \"beta2\": 0.99,\n",
      "    \"learning_rate\": 0.0025\n",
      "  },\n",
      "  \"D_opt_args\": {\n",
      "    \"beta1\": 0.0,\n",
      "    \"beta2\": 0.99,\n",
      "    \"learning_rate\": 0.0025\n",
      "  },\n",
      "  \"loss_args\": {\n",
      "    \"func_name\": \"training.loss.stylegan2\",\n",
      "    \"r1_gamma\": 1\n",
      "  },\n",
      "  \"augment_args\": {\n",
      "    \"class_name\": \"training.augment.AdaptiveAugment\",\n",
      "    \"tune_heuristic\": \"rt\",\n",
      "    \"tune_target\": 0.6,\n",
      "    \"apply_func\": \"training.augment.augment_pipeline\",\n",
      "    \"apply_args\": {\n",
      "      \"xflip\": 1,\n",
      "      \"rotate90\": 1,\n",
      "      \"xint\": 1,\n",
      "      \"scale\": 1,\n",
      "      \"rotate\": 1,\n",
      "      \"aniso\": 1,\n",
      "      \"xfrac\": 1,\n",
      "      \"brightness\": 1,\n",
      "      \"contrast\": 1,\n",
      "      \"lumaflip\": 1,\n",
      "      \"hue\": 1,\n",
      "      \"saturation\": 1\n",
      "    }\n",
      "  },\n",
      "  \"num_gpus\": 1,\n",
      "  \"image_snapshot_ticks\": 10,\n",
      "  \"network_snapshot_ticks\": 30,\n",
      "  \"train_dataset_args\": {\n",
      "    \"path\": \"/content/datasets/bonn\",\n",
      "    \"max_label_size\": 0,\n",
      "    \"resolution\": 128,\n",
      "    \"mirror_augment\": true\n",
      "  },\n",
      "  \"metric_arg_list\": [],\n",
      "  \"metric_dataset_args\": {\n",
      "    \"path\": \"/content/datasets/bonn\",\n",
      "    \"max_label_size\": 0,\n",
      "    \"resolution\": 128,\n",
      "    \"mirror_augment\": true\n",
      "  },\n",
      "  \"total_kimg\": 50000,\n",
      "  \"minibatch_size\": 32,\n",
      "  \"minibatch_gpu\": 32,\n",
      "  \"G_smoothing_kimg\": 10.0,\n",
      "  \"G_smoothing_rampup\": 0.05,\n",
      "  \"run_dir\": \"/content/saves/00000-bonn-mirror-auto_tuned1-kimg50000\"\n",
      "}\n",
      "\n",
      "Output directory:  /content/saves/00000-bonn-mirror-auto_tuned1-kimg50000\n",
      "Training data:     /content/datasets/bonn\n",
      "Training length:   50000 kimg\n",
      "Resolution:        128\n",
      "Number of GPUs:    1\n",
      "\n",
      "Creating output directory...\n",
      "Loading training set...\n",
      "tcmalloc: large alloc 4294967296 bytes == 0x7ab8000 @  0x7fb61ab00001 0x7fb617d434ff 0x7fb617d93b08 0x7fb617d97ac7 0x7fb617e361a3 0x50a4a5 0x50cc96 0x507be4 0x508ec2 0x594a01 0x549e8f 0x5515c1 0x5a9dac 0x50a433 0x50cc96 0x507be4 0x588e5c 0x59fd0e 0x50d256 0x507be4 0x588e5c 0x59fd0e 0x50d256 0x507be4 0x588e5c 0x59fd0e 0x50d256 0x5095c8 0x50a2fd 0x50beb4 0x507be4\n",
      "tcmalloc: large alloc 4294967296 bytes == 0x7fb21a2b2000 @  0x7fb61aafe1e7 0x7fb617d4341e 0x7fb617d93c2b 0x7fb617d9430f 0x7fb617e360a3 0x50a4a5 0x50cc96 0x507be4 0x509900 0x50a2fd 0x50cc96 0x507be4 0x509900 0x50a2fd 0x50cc96 0x507be4 0x509900 0x50a2fd 0x50cc96 0x5095c8 0x50a2fd 0x50beb4 0x507be4 0x509900 0x50a2fd 0x50beb4 0x507be4 0x509900 0x50a2fd 0x50cc96 0x507be4\n",
      "tcmalloc: large alloc 4294967296 bytes == 0x7fb21a2b2000 @  0x7fb61aafe1e7 0x7fb617d4341e 0x7fb617d93c2b 0x7fb617d9430f 0x7fb5c36830c5 0x7fb5c3006902 0x7fb5c3006eb2 0x7fb5c2fbfc3e 0x50a12f 0x50beb4 0x5095c8 0x50a2fd 0x50beb4 0x507be4 0x588c8b 0x59fd0e 0x50d256 0x507be4 0x509900 0x50a2fd 0x50beb4 0x507be4 0x509900 0x50a2fd 0x50beb4 0x5095c8 0x50a2fd 0x50beb4 0x507be4 0x508ec2 0x594a01\n",
      "Image shape: [3, 128, 128]\n",
      "Label shape: [0]\n",
      "\n",
      "Constructing networks...\n",
      "Setting up TensorFlow plugin \"fused_bias_act.cu\": Compiling... Loading... Done.\n",
      "Setting up TensorFlow plugin \"upfirdn_2d.cu\": Compiling... Loading... Done.\n",
      "\n",
      "G                             Params    OutputShape         WeightShape     \n",
      "---                           ---       ---                 ---             \n",
      "latents_in                    -         (?, 512)            -               \n",
      "labels_in                     -         (?, 0)              -               \n",
      "G_mapping/Normalize           -         (?, 512)            -               \n",
      "G_mapping/Dense0              262656    (?, 512)            (512, 512)      \n",
      "G_mapping/Dense1              262656    (?, 512)            (512, 512)      \n",
      "G_mapping/Broadcast           -         (?, 12, 512)        -               \n",
      "dlatent_avg                   -         (512,)              -               \n",
      "Truncation/Lerp               -         (?, 12, 512)        -               \n",
      "G_synthesis/4x4/Const         8192      (?, 512, 4, 4)      (1, 512, 4, 4)  \n",
      "G_synthesis/4x4/Conv          2622465   (?, 512, 4, 4)      (3, 3, 512, 512)\n",
      "G_synthesis/4x4/ToRGB         264195    (?, 3, 4, 4)        (1, 1, 512, 3)  \n",
      "G_synthesis/8x8/Conv0_up      2622465   (?, 512, 8, 8)      (3, 3, 512, 512)\n",
      "G_synthesis/8x8/Conv1         2622465   (?, 512, 8, 8)      (3, 3, 512, 512)\n",
      "G_synthesis/8x8/Upsample      -         (?, 3, 8, 8)        -               \n",
      "G_synthesis/8x8/ToRGB         264195    (?, 3, 8, 8)        (1, 1, 512, 3)  \n",
      "G_synthesis/16x16/Conv0_up    2622465   (?, 512, 16, 16)    (3, 3, 512, 512)\n",
      "G_synthesis/16x16/Conv1       2622465   (?, 512, 16, 16)    (3, 3, 512, 512)\n",
      "G_synthesis/16x16/Upsample    -         (?, 3, 16, 16)      -               \n",
      "G_synthesis/16x16/ToRGB       264195    (?, 3, 16, 16)      (1, 1, 512, 3)  \n",
      "G_synthesis/32x32/Conv0_up    2622465   (?, 512, 32, 32)    (3, 3, 512, 512)\n",
      "G_synthesis/32x32/Conv1       2622465   (?, 512, 32, 32)    (3, 3, 512, 512)\n",
      "G_synthesis/32x32/Upsample    -         (?, 3, 32, 32)      -               \n",
      "G_synthesis/32x32/ToRGB       264195    (?, 3, 32, 32)      (1, 1, 512, 3)  \n",
      "G_synthesis/64x64/Conv0_up    1442561   (?, 256, 64, 64)    (3, 3, 512, 256)\n",
      "G_synthesis/64x64/Conv1       721409    (?, 256, 64, 64)    (3, 3, 256, 256)\n",
      "G_synthesis/64x64/Upsample    -         (?, 3, 64, 64)      -               \n",
      "G_synthesis/64x64/ToRGB       132099    (?, 3, 64, 64)      (1, 1, 256, 3)  \n",
      "G_synthesis/128x128/Conv0_up  426369    (?, 128, 128, 128)  (3, 3, 256, 128)\n",
      "G_synthesis/128x128/Conv1     213249    (?, 128, 128, 128)  (3, 3, 128, 128)\n",
      "G_synthesis/128x128/Upsample  -         (?, 3, 128, 128)    -               \n",
      "G_synthesis/128x128/ToRGB     66051     (?, 3, 128, 128)    (1, 1, 128, 3)  \n",
      "---                           ---       ---                 ---             \n",
      "Total                         22949277                                      \n",
      "\n",
      "\n",
      "D                    Params    OutputShape         WeightShape     \n",
      "---                  ---       ---                 ---             \n",
      "images_in            -         (?, 3, 128, 128)    -               \n",
      "labels_in            -         (?, 0)              -               \n",
      "128x128/FromRGB      512       (?, 128, 128, 128)  (1, 1, 3, 128)  \n",
      "128x128/Conv0        147584    (?, 128, 128, 128)  (3, 3, 128, 128)\n",
      "128x128/Conv1_down   295168    (?, 256, 64, 64)    (3, 3, 128, 256)\n",
      "128x128/Skip         32768     (?, 256, 64, 64)    (1, 1, 128, 256)\n",
      "64x64/Conv0          590080    (?, 256, 64, 64)    (3, 3, 256, 256)\n",
      "64x64/Conv1_down     1180160   (?, 512, 32, 32)    (3, 3, 256, 512)\n",
      "64x64/Skip           131072    (?, 512, 32, 32)    (1, 1, 256, 512)\n",
      "32x32/Conv0          2359808   (?, 512, 32, 32)    (3, 3, 512, 512)\n",
      "32x32/Conv1_down     2359808   (?, 512, 16, 16)    (3, 3, 512, 512)\n",
      "32x32/Skip           262144    (?, 512, 16, 16)    (1, 1, 512, 512)\n",
      "16x16/Conv0          2359808   (?, 512, 16, 16)    (3, 3, 512, 512)\n",
      "16x16/Conv1_down     2359808   (?, 512, 8, 8)      (3, 3, 512, 512)\n",
      "16x16/Skip           262144    (?, 512, 8, 8)      (1, 1, 512, 512)\n",
      "8x8/Conv0            2359808   (?, 512, 8, 8)      (3, 3, 512, 512)\n",
      "8x8/Conv1_down       2359808   (?, 512, 4, 4)      (3, 3, 512, 512)\n",
      "8x8/Skip             262144    (?, 512, 4, 4)      (1, 1, 512, 512)\n",
      "4x4/MinibatchStddev  -         (?, 513, 4, 4)      -               \n",
      "4x4/Conv             2364416   (?, 512, 4, 4)      (3, 3, 513, 512)\n",
      "4x4/Dense0           4194816   (?, 512)            (8192, 512)     \n",
      "Output               513       (?, 1)              (512, 1)        \n",
      "---                  ---       ---                 ---             \n",
      "Total                23882369                                      \n",
      "\n",
      "Exporting sample images...\n",
      "2021-01-25 23:26:58.461253: W tensorflow/core/framework/cpu_allocator_impl.cc:81] Allocation of 50331648 exceeds 10% of system memory.\n",
      "Replicating networks across 1 GPUs...\n",
      "Initializing augmentations...\n",
      "Setting up optimizers...\n",
      "Constructing training graph...\n",
      "Finalizing training ops...\n",
      "Initializing metrics...\n",
      "Training for 50000 kimg...\n",
      "\n",
      "tick 0     kimg 0.1      time 1m 48s       sec/tick 14.9    sec/kimg 116.66  maintenance 93.0   gpumem 8.6   augment 0.000\n",
      "tick 1     kimg 4.2      time 3m 08s       sec/tick 57.9    sec/kimg 14.15   maintenance 22.3   gpumem 8.6   augment 0.006\n",
      "tick 2     kimg 8.3      time 4m 06s       sec/tick 57.8    sec/kimg 14.11   maintenance 0.0    gpumem 8.6   augment 0.012\n",
      "tick 3     kimg 12.4     time 5m 04s       sec/tick 57.8    sec/kimg 14.12   maintenance 0.0    gpumem 8.6   augment 0.016\n",
      "tick 4     kimg 16.5     time 6m 02s       sec/tick 58.0    sec/kimg 14.15   maintenance 0.0    gpumem 8.6   augment 0.022\n",
      "tick 5     kimg 20.6     time 7m 00s       sec/tick 57.9    sec/kimg 14.14   maintenance 0.0    gpumem 8.6   augment 0.027\n",
      "tick 6     kimg 24.7     time 7m 58s       sec/tick 58.1    sec/kimg 14.18   maintenance 0.0    gpumem 8.6   augment 0.031\n",
      "tick 7     kimg 28.8     time 8m 56s       sec/tick 58.0    sec/kimg 14.17   maintenance 0.0    gpumem 8.6   augment 0.038\n",
      "tick 8     kimg 32.9     time 9m 54s       sec/tick 58.0    sec/kimg 14.17   maintenance 0.0    gpumem 8.6   augment 0.043\n",
      "tick 9     kimg 37.0     time 10m 52s      sec/tick 58.1    sec/kimg 14.17   maintenance 0.0    gpumem 8.6   augment 0.047\n",
      "tick 10    kimg 41.1     time 11m 50s      sec/tick 58.1    sec/kimg 14.18   maintenance 0.0    gpumem 8.6   augment 0.053\n",
      "tick 11    kimg 45.2     time 12m 55s      sec/tick 58.1    sec/kimg 14.20   maintenance 6.5    gpumem 8.6   augment 0.059\n",
      "tick 12    kimg 49.3     time 13m 53s      sec/tick 58.0    sec/kimg 14.15   maintenance 0.0    gpumem 8.6   augment 0.063\n",
      "tick 13    kimg 53.4     time 14m 51s      sec/tick 58.1    sec/kimg 14.18   maintenance 0.0    gpumem 8.6   augment 0.068\n",
      "tick 14    kimg 57.5     time 15m 49s      sec/tick 58.1    sec/kimg 14.19   maintenance 0.0    gpumem 8.6   augment 0.072\n",
      "tick 15    kimg 61.6     time 16m 47s      sec/tick 58.0    sec/kimg 14.16   maintenance 0.0    gpumem 8.6   augment 0.077\n",
      "tick 16    kimg 65.7     time 17m 45s      sec/tick 58.1    sec/kimg 14.17   maintenance 0.0    gpumem 8.6   augment 0.078\n",
      "tick 17    kimg 69.8     time 18m 43s      sec/tick 58.2    sec/kimg 14.20   maintenance 0.0    gpumem 8.6   augment 0.080\n",
      "tick 18    kimg 73.9     time 19m 41s      sec/tick 58.0    sec/kimg 14.16   maintenance 0.0    gpumem 8.6   augment 0.083\n",
      "tick 19    kimg 78.0     time 20m 39s      sec/tick 58.2    sec/kimg 14.20   maintenance 0.0    gpumem 8.6   augment 0.086\n",
      "tick 20    kimg 82.0     time 21m 38s      sec/tick 58.3    sec/kimg 14.22   maintenance 0.0    gpumem 8.6   augment 0.085\n",
      "tick 21    kimg 86.1     time 22m 45s      sec/tick 58.1    sec/kimg 14.19   maintenance 9.2    gpumem 8.6   augment 0.084\n",
      "tick 22    kimg 90.2     time 23m 43s      sec/tick 58.3    sec/kimg 14.23   maintenance 0.0    gpumem 8.6   augment 0.084\n",
      "tick 23    kimg 94.3     time 24m 41s      sec/tick 58.2    sec/kimg 14.21   maintenance 0.0    gpumem 8.6   augment 0.084\n",
      "tick 24    kimg 98.4     time 25m 40s      sec/tick 58.2    sec/kimg 14.20   maintenance 0.0    gpumem 8.6   augment 0.085\n",
      "tick 25    kimg 102.5    time 26m 38s      sec/tick 58.2    sec/kimg 14.22   maintenance 0.0    gpumem 8.6   augment 0.088\n"
     ]
    }
   ],
   "source": [
    "%cd /content\n",
    "!python stylegan2-ada/train.py \\\n",
    " --outdir='/content/saves' \\\n",
    " --snap=30 \\\n",
    " --im_snap=10 \\\n",
    " --gpus=1 \\\n",
    " --data='/content/datasets/bonn' \\\n",
    " --mirror=true \\\n",
    " --metrics=none \\\n",
    " --kimg=50000 \\\n",
    " --cfg=auto_tuned"
   ]
  },
  {
   "cell_type": "markdown",
   "metadata": {
    "id": "2FGozskE2gGM"
   },
   "source": [
    "#### Resume from latest snapshot"
   ]
  },
  {
   "cell_type": "markdown",
   "metadata": {
    "id": "SvLmB4OrcSHS"
   },
   "source": [
    "Then,  **automatically** resume from the latest pickle snapshot.\n",
    "\n",
    "Caveat: you will have to **manually** specify the augmentation strength, as found in `log.txt`."
   ]
  },
  {
   "cell_type": "code",
   "execution_count": 14,
   "metadata": {
    "colab": {
     "base_uri": "https://localhost:8080/"
    },
    "id": "7s7cdAcU2l3x",
    "outputId": "3576be3f-da00-44c3-d19c-6e9c98f7f8b1"
   },
   "outputs": [
    {
     "name": "stdout",
     "output_type": "stream",
     "text": [
      "tcmalloc: large alloc 4294967296 bytes == 0x8250000 @  0x7f9e8d0c3001 0x7f9e8a2ec765 0x7f9e8a350bb0 0x7f9e8a352a4f 0x7f9e8a3e9048 0x50a4a5 0x50cc96 0x507be4 0x508ec2 0x594a01 0x549e8f 0x5515c1 0x5a9dac 0x50a433 0x50cc96 0x507be4 0x588e5c 0x59fd0e 0x50d256 0x507be4 0x588e5c 0x59fd0e 0x50d256 0x507be4 0x588e5c 0x59fd0e 0x50d256 0x5095c8 0x50a2fd 0x50beb4 0x507be4\n",
      "tcmalloc: large alloc 4294967296 bytes == 0x7f9cbac20000 @  0x7f9e8d0c11e7 0x7f9e8a2ec5e1 0x7f9e8a350c78 0x7f9e8a350f37 0x7f9e8a3e8f28 0x50a4a5 0x50cc96 0x507be4 0x509900 0x50a2fd 0x50cc96 0x507be4 0x509900 0x50a2fd 0x50cc96 0x507be4 0x509900 0x50a2fd 0x50cc96 0x5095c8 0x50a2fd 0x50beb4 0x507be4 0x509900 0x50a2fd 0x50beb4 0x507be4 0x509900 0x50a2fd 0x50cc96 0x507be4\n",
      "tcmalloc: large alloc 4294967296 bytes == 0x7f9bb9c1e000 @  0x7f9e8d0c11e7 0x7f9e8a2ec5e1 0x7f9e8a350c78 0x7f9e8a350f37 0x7f9e483560c5 0x7f9e47cd9902 0x7f9e47cd9eb2 0x7f9e47c92c3e 0x50a12f 0x50beb4 0x5095c8 0x50a2fd 0x50beb4 0x507be4 0x588c8b 0x59fd0e 0x50d256 0x507be4 0x509900 0x50a2fd 0x50beb4 0x507be4 0x509900 0x50a2fd 0x50beb4 0x5095c8 0x50a2fd 0x50beb4 0x507be4 0x508ec2 0x594a01\n",
      "\n",
      "Training options:\n",
      "{\n",
      "  \"G_args\": {\n",
      "    \"func_name\": \"training.networks.G_main\",\n",
      "    \"fmap_base\": 8192,\n",
      "    \"fmap_max\": 512,\n",
      "    \"mapping_layers\": 8,\n",
      "    \"num_fp16_res\": 4,\n",
      "    \"conv_clamp\": 256\n",
      "  },\n",
      "  \"D_args\": {\n",
      "    \"func_name\": \"training.networks.D_main\",\n",
      "    \"mbstd_group_size\": 4,\n",
      "    \"fmap_base\": 8192,\n",
      "    \"fmap_max\": 512,\n",
      "    \"num_fp16_res\": 4,\n",
      "    \"conv_clamp\": 256,\n",
      "    \"freeze_layers\": 10\n",
      "  },\n",
      "  \"G_opt_args\": {\n",
      "    \"beta1\": 0.0,\n",
      "    \"beta2\": 0.99,\n",
      "    \"learning_rate\": 0.0025\n",
      "  },\n",
      "  \"D_opt_args\": {\n",
      "    \"beta1\": 0.0,\n",
      "    \"beta2\": 0.99,\n",
      "    \"learning_rate\": 0.0025\n",
      "  },\n",
      "  \"loss_args\": {\n",
      "    \"func_name\": \"training.loss.stylegan2\",\n",
      "    \"r1_gamma\": 0.8192\n",
      "  },\n",
      "  \"augment_args\": {\n",
      "    \"class_name\": \"training.augment.AdaptiveAugment\",\n",
      "    \"tune_heuristic\": \"rt\",\n",
      "    \"tune_target\": 0.6,\n",
      "    \"initial_strength\": 0.713,\n",
      "    \"apply_func\": \"training.augment.augment_pipeline\",\n",
      "    \"apply_args\": {\n",
      "      \"xflip\": 1,\n",
      "      \"rotate90\": 1,\n",
      "      \"xint\": 1,\n",
      "      \"scale\": 1,\n",
      "      \"rotate\": 1,\n",
      "      \"aniso\": 1,\n",
      "      \"xfrac\": 1,\n",
      "      \"brightness\": 1,\n",
      "      \"contrast\": 1,\n",
      "      \"lumaflip\": 1,\n",
      "      \"hue\": 1,\n",
      "      \"saturation\": 1\n",
      "    },\n",
      "    \"tune_kimg\": 100\n",
      "  },\n",
      "  \"num_gpus\": 1,\n",
      "  \"image_snapshot_ticks\": 6,\n",
      "  \"network_snapshot_ticks\": 6,\n",
      "  \"train_dataset_args\": {\n",
      "    \"path\": \"/content/datasets/steam\",\n",
      "    \"max_label_size\": 0,\n",
      "    \"resolution\": 256,\n",
      "    \"mirror_augment\": true\n",
      "  },\n",
      "  \"metric_arg_list\": [],\n",
      "  \"metric_dataset_args\": {\n",
      "    \"path\": \"/content/datasets/steam\",\n",
      "    \"max_label_size\": 0,\n",
      "    \"resolution\": 256,\n",
      "    \"mirror_augment\": true\n",
      "  },\n",
      "  \"total_kimg\": 5000,\n",
      "  \"minibatch_size\": 16,\n",
      "  \"minibatch_gpu\": 16,\n",
      "  \"G_smoothing_kimg\": 5.0,\n",
      "  \"G_smoothing_rampup\": null,\n",
      "  \"resume_pkl\": \"latest\",\n",
      "  \"run_dir\": \"/content/drive/My Drive/training-runs/00025-steam-mirror-auto_no_ramp1-kimg5000-p0.713-resumecustom-freezed10\"\n",
      "}\n",
      "\n",
      "Output directory:  /content/drive/My Drive/training-runs/00025-steam-mirror-auto_no_ramp1-kimg5000-p0.713-resumecustom-freezed10\n",
      "Training data:     /content/datasets/steam\n",
      "Training length:   5000 kimg\n",
      "Resolution:        256\n",
      "Number of GPUs:    1\n",
      "\n",
      "Creating output directory...\n",
      "Loading training set...\n",
      "tcmalloc: large alloc 4294967296 bytes == 0x7f9aaa428000 @  0x7f9e8d0c3001 0x7f9e8a2ec765 0x7f9e8a350bb0 0x7f9e8a352a4f 0x7f9e8a3e9048 0x50a4a5 0x50cc96 0x507be4 0x508ec2 0x594a01 0x549e8f 0x5515c1 0x5a9dac 0x50a433 0x50cc96 0x507be4 0x588e5c 0x59fd0e 0x50d256 0x507be4 0x588e5c 0x59fd0e 0x50d256 0x507be4 0x588e5c 0x59fd0e 0x50d256 0x5095c8 0x50a2fd 0x50beb4 0x507be4\n",
      "tcmalloc: large alloc 4294967296 bytes == 0x7f99a9c28000 @  0x7f9e8d0c11e7 0x7f9e8a2ec5e1 0x7f9e8a350c78 0x7f9e8a350f37 0x7f9e8a3e8f28 0x50a4a5 0x50cc96 0x507be4 0x509900 0x50a2fd 0x50cc96 0x507be4 0x509900 0x50a2fd 0x50cc96 0x507be4 0x509900 0x50a2fd 0x50cc96 0x5095c8 0x50a2fd 0x50beb4 0x507be4 0x509900 0x50a2fd 0x50beb4 0x507be4 0x509900 0x50a2fd 0x50cc96 0x507be4\n",
      "tcmalloc: large alloc 4294967296 bytes == 0x7f99a9c28000 @  0x7f9e8d0c11e7 0x7f9e8a2ec5e1 0x7f9e8a350c78 0x7f9e8a350f37 0x7f9e483560c5 0x7f9e47cd9902 0x7f9e47cd9eb2 0x7f9e47c92c3e 0x50a12f 0x50beb4 0x5095c8 0x50a2fd 0x50beb4 0x507be4 0x588c8b 0x59fd0e 0x50d256 0x507be4 0x509900 0x50a2fd 0x50beb4 0x507be4 0x509900 0x50a2fd 0x50beb4 0x5095c8 0x50a2fd 0x50beb4 0x507be4 0x508ec2 0x594a01\n",
      "Image shape: [3, 256, 256]\n",
      "Label shape: [0]\n",
      "\n",
      "Constructing networks...\n",
      "Setting up TensorFlow plugin \"fused_bias_act.cu\": Compiling... Loading... Done.\n",
      "Setting up TensorFlow plugin \"upfirdn_2d.cu\": Compiling... Loading... Done.\n",
      "Resuming from kimg = 4615.0\n",
      "Resuming from \"/content/drive/My Drive/training-runs/00024-steam-mirror-auto_no_ramp1-kimg5000-p0.677-resumecustom-freezed10/network-snapshot-004615.pkl\"\n",
      "\n",
      "G                             Params    OutputShape         WeightShape     \n",
      "---                           ---       ---                 ---             \n",
      "latents_in                    -         (?, 512)            -               \n",
      "labels_in                     -         (?, 0)              -               \n",
      "G_mapping/Normalize           -         (?, 512)            -               \n",
      "G_mapping/Dense0              262656    (?, 512)            (512, 512)      \n",
      "G_mapping/Dense1              262656    (?, 512)            (512, 512)      \n",
      "G_mapping/Dense2              262656    (?, 512)            (512, 512)      \n",
      "G_mapping/Dense3              262656    (?, 512)            (512, 512)      \n",
      "G_mapping/Dense4              262656    (?, 512)            (512, 512)      \n",
      "G_mapping/Dense5              262656    (?, 512)            (512, 512)      \n",
      "G_mapping/Dense6              262656    (?, 512)            (512, 512)      \n",
      "G_mapping/Dense7              262656    (?, 512)            (512, 512)      \n",
      "G_mapping/Broadcast           -         (?, 14, 512)        -               \n",
      "dlatent_avg                   -         (512,)              -               \n",
      "Truncation/Lerp               -         (?, 14, 512)        -               \n",
      "G_synthesis/4x4/Const         8192      (?, 512, 4, 4)      (1, 512, 4, 4)  \n",
      "G_synthesis/4x4/Conv          2622465   (?, 512, 4, 4)      (3, 3, 512, 512)\n",
      "G_synthesis/4x4/ToRGB         264195    (?, 3, 4, 4)        (1, 1, 512, 3)  \n",
      "G_synthesis/8x8/Conv0_up      2622465   (?, 512, 8, 8)      (3, 3, 512, 512)\n",
      "G_synthesis/8x8/Conv1         2622465   (?, 512, 8, 8)      (3, 3, 512, 512)\n",
      "G_synthesis/8x8/Upsample      -         (?, 3, 8, 8)        -               \n",
      "G_synthesis/8x8/ToRGB         264195    (?, 3, 8, 8)        (1, 1, 512, 3)  \n",
      "G_synthesis/16x16/Conv0_up    2622465   (?, 512, 16, 16)    (3, 3, 512, 512)\n",
      "G_synthesis/16x16/Conv1       2622465   (?, 512, 16, 16)    (3, 3, 512, 512)\n",
      "G_synthesis/16x16/Upsample    -         (?, 3, 16, 16)      -               \n",
      "G_synthesis/16x16/ToRGB       264195    (?, 3, 16, 16)      (1, 1, 512, 3)  \n",
      "G_synthesis/32x32/Conv0_up    2622465   (?, 512, 32, 32)    (3, 3, 512, 512)\n",
      "G_synthesis/32x32/Conv1       2622465   (?, 512, 32, 32)    (3, 3, 512, 512)\n",
      "G_synthesis/32x32/Upsample    -         (?, 3, 32, 32)      -               \n",
      "G_synthesis/32x32/ToRGB       264195    (?, 3, 32, 32)      (1, 1, 512, 3)  \n",
      "G_synthesis/64x64/Conv0_up    1442561   (?, 256, 64, 64)    (3, 3, 512, 256)\n",
      "G_synthesis/64x64/Conv1       721409    (?, 256, 64, 64)    (3, 3, 256, 256)\n",
      "G_synthesis/64x64/Upsample    -         (?, 3, 64, 64)      -               \n",
      "G_synthesis/64x64/ToRGB       132099    (?, 3, 64, 64)      (1, 1, 256, 3)  \n",
      "G_synthesis/128x128/Conv0_up  426369    (?, 128, 128, 128)  (3, 3, 256, 128)\n",
      "G_synthesis/128x128/Conv1     213249    (?, 128, 128, 128)  (3, 3, 128, 128)\n",
      "G_synthesis/128x128/Upsample  -         (?, 3, 128, 128)    -               \n",
      "G_synthesis/128x128/ToRGB     66051     (?, 3, 128, 128)    (1, 1, 128, 3)  \n",
      "G_synthesis/256x256/Conv0_up  139457    (?, 64, 256, 256)   (3, 3, 128, 64) \n",
      "G_synthesis/256x256/Conv1     69761     (?, 64, 256, 256)   (3, 3, 64, 64)  \n",
      "G_synthesis/256x256/Upsample  -         (?, 3, 256, 256)    -               \n",
      "G_synthesis/256x256/ToRGB     33027     (?, 3, 256, 256)    (1, 1, 64, 3)   \n",
      "---                           ---       ---                 ---             \n",
      "Total                         24767458                                      \n",
      "\n",
      "\n",
      "D                    Params    OutputShape         WeightShape     \n",
      "---                  ---       ---                 ---             \n",
      "images_in            -         (?, 3, 256, 256)    -               \n",
      "labels_in            -         (?, 0)              -               \n",
      "256x256/FromRGB      -         (?, 64, 256, 256)   -               \n",
      "256x256/Conv0        -         (?, 64, 256, 256)   -               \n",
      "256x256/Conv1_down   -         (?, 128, 128, 128)  -               \n",
      "256x256/Skip         -         (?, 128, 128, 128)  -               \n",
      "128x128/Conv0        -         (?, 128, 128, 128)  -               \n",
      "128x128/Conv1_down   -         (?, 256, 64, 64)    -               \n",
      "128x128/Skip         -         (?, 256, 64, 64)    -               \n",
      "64x64/Conv0          -         (?, 256, 64, 64)    -               \n",
      "64x64/Conv1_down     -         (?, 512, 32, 32)    -               \n",
      "64x64/Skip           -         (?, 512, 32, 32)    -               \n",
      "32x32/Conv0          2359808   (?, 512, 32, 32)    (3, 3, 512, 512)\n",
      "32x32/Conv1_down     2359808   (?, 512, 16, 16)    (3, 3, 512, 512)\n",
      "32x32/Skip           262144    (?, 512, 16, 16)    (1, 1, 512, 512)\n",
      "16x16/Conv0          2359808   (?, 512, 16, 16)    (3, 3, 512, 512)\n",
      "16x16/Conv1_down     2359808   (?, 512, 8, 8)      (3, 3, 512, 512)\n",
      "16x16/Skip           262144    (?, 512, 8, 8)      (1, 1, 512, 512)\n",
      "8x8/Conv0            2359808   (?, 512, 8, 8)      (3, 3, 512, 512)\n",
      "8x8/Conv1_down       2359808   (?, 512, 4, 4)      (3, 3, 512, 512)\n",
      "8x8/Skip             262144    (?, 512, 4, 4)      (1, 1, 512, 512)\n",
      "4x4/MinibatchStddev  -         (?, 513, 4, 4)      -               \n",
      "4x4/Conv             2364416   (?, 512, 4, 4)      (3, 3, 513, 512)\n",
      "4x4/Dense0           4194816   (?, 512)            (8192, 512)     \n",
      "Output               513       (?, 1)              (512, 1)        \n",
      "---                  ---       ---                 ---             \n",
      "Total                21505025                                      \n",
      "\n",
      "Exporting sample images...\n",
      "2020-11-04 08:48:34.432357: W tensorflow/core/framework/cpu_allocator_impl.cc:81] Allocation of 94371840 exceeds 10% of system memory.\n",
      "Replicating networks across 1 GPUs...\n",
      "Initializing augmentations...\n",
      "Setting up optimizers...\n",
      "Constructing training graph...\n",
      "Finalizing training ops...\n",
      "Initializing metrics...\n",
      "Training for 5000 kimg...\n",
      "\n",
      "tick 0     kimg 4615.1   time 2m 18s       sec/tick 35.3    sec/kimg 551.50  maintenance 102.4  gpumem 7.3   augment 0.712\n",
      "tick 1     kimg 4619.1   time 6m 33s       sec/tick 238.0   sec/kimg 59.03   maintenance 17.3   gpumem 7.3   augment 0.712\n",
      "tick 2     kimg 4623.1   time 10m 31s      sec/tick 238.2   sec/kimg 59.08   maintenance 0.0    gpumem 7.3   augment 0.715\n",
      "tick 3     kimg 4627.2   time 14m 29s      sec/tick 237.8   sec/kimg 58.98   maintenance 0.0    gpumem 7.3   augment 0.719\n",
      "tick 4     kimg 4631.2   time 18m 27s      sec/tick 237.9   sec/kimg 59.01   maintenance 0.0    gpumem 7.3   augment 0.726\n",
      "tick 5     kimg 4635.2   time 22m 24s      sec/tick 237.6   sec/kimg 58.92   maintenance 0.0    gpumem 7.3   augment 0.725\n",
      "tick 6     kimg 4639.3   time 26m 22s      sec/tick 237.9   sec/kimg 58.99   maintenance 0.0    gpumem 7.3   augment 0.728\n",
      "tick 7     kimg 4643.3   time 30m 27s      sec/tick 237.8   sec/kimg 58.99   maintenance 6.8    gpumem 7.3   augment 0.731\n",
      "tick 8     kimg 4647.3   time 34m 25s      sec/tick 238.0   sec/kimg 59.02   maintenance 0.0    gpumem 7.3   augment 0.732\n",
      "tick 9     kimg 4651.4   time 38m 23s      sec/tick 237.6   sec/kimg 58.93   maintenance 0.0    gpumem 7.3   augment 0.727\n",
      "tick 10    kimg 4655.4   time 42m 20s      sec/tick 237.7   sec/kimg 58.94   maintenance 0.0    gpumem 7.3   augment 0.726\n",
      "tick 11    kimg 4659.4   time 46m 18s      sec/tick 237.7   sec/kimg 58.96   maintenance 0.0    gpumem 7.3   augment 0.721\n",
      "tick 12    kimg 4663.4   time 50m 16s      sec/tick 237.9   sec/kimg 59.00   maintenance 0.0    gpumem 7.3   augment 0.723\n",
      "tick 13    kimg 4667.5   time 54m 20s      sec/tick 237.5   sec/kimg 58.90   maintenance 6.5    gpumem 7.3   augment 0.723\n",
      "tick 14    kimg 4671.5   time 58m 18s      sec/tick 237.7   sec/kimg 58.95   maintenance 0.0    gpumem 7.3   augment 0.716\n",
      "tick 15    kimg 4675.5   time 1h 02m 15s   sec/tick 237.9   sec/kimg 59.01   maintenance 0.0    gpumem 7.3   augment 0.725\n",
      "tick 16    kimg 4679.6   time 1h 06m 13s   sec/tick 238.0   sec/kimg 59.02   maintenance 0.0    gpumem 7.3   augment 0.725\n",
      "tick 17    kimg 4683.6   time 1h 10m 11s   sec/tick 237.7   sec/kimg 58.94   maintenance 0.0    gpumem 7.3   augment 0.731\n",
      "tick 18    kimg 4687.6   time 1h 14m 09s   sec/tick 238.2   sec/kimg 59.07   maintenance 0.0    gpumem 7.3   augment 0.738\n",
      "tick 19    kimg 4691.7   time 1h 18m 14s   sec/tick 238.4   sec/kimg 59.14   maintenance 6.4    gpumem 7.3   augment 0.735\n",
      "tick 20    kimg 4695.7   time 1h 22m 12s   sec/tick 238.0   sec/kimg 59.03   maintenance 0.0    gpumem 7.3   augment 0.741\n",
      "tick 21    kimg 4699.7   time 1h 26m 10s   sec/tick 237.5   sec/kimg 58.91   maintenance 0.0    gpumem 7.3   augment 0.736\n",
      "tick 22    kimg 4703.8   time 1h 30m 08s   sec/tick 237.9   sec/kimg 59.01   maintenance 0.0    gpumem 7.3   augment 0.721\n",
      "tick 23    kimg 4707.8   time 1h 34m 05s   sec/tick 237.6   sec/kimg 58.93   maintenance 0.0    gpumem 7.3   augment 0.725\n",
      "tick 24    kimg 4711.8   time 1h 38m 03s   sec/tick 237.6   sec/kimg 58.93   maintenance 0.0    gpumem 7.3   augment 0.733\n",
      "tick 25    kimg 4715.9   time 1h 42m 06s   sec/tick 237.5   sec/kimg 58.90   maintenance 6.1    gpumem 7.3   augment 0.733\n",
      "tick 26    kimg 4719.9   time 1h 46m 05s   sec/tick 238.3   sec/kimg 59.11   maintenance 0.0    gpumem 7.3   augment 0.738\n",
      "tick 27    kimg 4723.9   time 1h 50m 03s   sec/tick 237.9   sec/kimg 59.01   maintenance 0.0    gpumem 7.3   augment 0.740\n",
      "tick 28    kimg 4728.0   time 1h 54m 01s   sec/tick 237.9   sec/kimg 58.99   maintenance 0.0    gpumem 7.3   augment 0.726\n",
      "tick 29    kimg 4732.0   time 1h 57m 58s   sec/tick 237.8   sec/kimg 58.97   maintenance 0.0    gpumem 7.3   augment 0.728\n",
      "tick 30    kimg 4736.0   time 2h 01m 56s   sec/tick 238.0   sec/kimg 59.02   maintenance 0.0    gpumem 7.3   augment 0.724\n",
      "tick 31    kimg 4740.1   time 2h 06m 00s   sec/tick 237.9   sec/kimg 59.00   maintenance 6.2    gpumem 7.3   augment 0.728\n",
      "tick 32    kimg 4744.1   time 2h 09m 58s   sec/tick 237.9   sec/kimg 58.99   maintenance 0.0    gpumem 7.3   augment 0.720\n",
      "tick 33    kimg 4748.1   time 2h 13m 56s   sec/tick 237.5   sec/kimg 58.90   maintenance 0.0    gpumem 7.3   augment 0.721\n",
      "tick 34    kimg 4752.2   time 2h 17m 54s   sec/tick 237.9   sec/kimg 59.00   maintenance 0.0    gpumem 7.3   augment 0.719\n",
      "tick 35    kimg 4756.2   time 2h 21m 51s   sec/tick 237.6   sec/kimg 58.92   maintenance 0.0    gpumem 7.3   augment 0.723\n",
      "tick 36    kimg 4760.2   time 2h 25m 49s   sec/tick 237.9   sec/kimg 59.01   maintenance 0.0    gpumem 7.3   augment 0.737\n",
      "tick 37    kimg 4764.2   time 2h 29m 53s   sec/tick 237.7   sec/kimg 58.96   maintenance 6.2    gpumem 7.3   augment 0.733\n",
      "tick 38    kimg 4768.3   time 2h 33m 51s   sec/tick 237.8   sec/kimg 58.99   maintenance 0.0    gpumem 7.3   augment 0.737\n",
      "tick 39    kimg 4772.3   time 2h 37m 49s   sec/tick 238.0   sec/kimg 59.04   maintenance 0.0    gpumem 7.3   augment 0.732\n",
      "tick 40    kimg 4776.3   time 2h 41m 47s   sec/tick 238.1   sec/kimg 59.05   maintenance 0.0    gpumem 7.3   augment 0.732\n",
      "tick 41    kimg 4780.4   time 2h 45m 45s   sec/tick 237.8   sec/kimg 58.98   maintenance 0.0    gpumem 7.3   augment 0.739\n",
      "tick 42    kimg 4784.4   time 2h 49m 43s   sec/tick 237.8   sec/kimg 58.98   maintenance 0.0    gpumem 7.3   augment 0.735\n",
      "tick 43    kimg 4788.4   time 2h 53m 47s   sec/tick 238.1   sec/kimg 59.04   maintenance 6.2    gpumem 7.3   augment 0.731\n",
      "tick 44    kimg 4792.5   time 2h 57m 45s   sec/tick 237.7   sec/kimg 58.96   maintenance 0.0    gpumem 7.3   augment 0.734\n",
      "tick 45    kimg 4796.5   time 3h 01m 42s   sec/tick 237.6   sec/kimg 58.92   maintenance 0.0    gpumem 7.3   augment 0.736\n",
      "tick 46    kimg 4800.5   time 3h 05m 40s   sec/tick 238.0   sec/kimg 59.04   maintenance 0.0    gpumem 7.3   augment 0.733\n",
      "tick 47    kimg 4804.6   time 3h 09m 38s   sec/tick 237.9   sec/kimg 59.01   maintenance 0.0    gpumem 7.3   augment 0.736\n",
      "tick 48    kimg 4808.6   time 3h 13m 37s   sec/tick 238.1   sec/kimg 59.05   maintenance 0.0    gpumem 7.3   augment 0.728\n",
      "tick 49    kimg 4812.6   time 3h 17m 40s   sec/tick 237.4   sec/kimg 58.89   maintenance 6.2    gpumem 7.3   augment 0.725\n",
      "tick 50    kimg 4816.7   time 3h 21m 38s   sec/tick 237.8   sec/kimg 58.99   maintenance 0.0    gpumem 7.3   augment 0.721\n",
      "tick 51    kimg 4820.7   time 3h 25m 36s   sec/tick 237.8   sec/kimg 58.98   maintenance 0.0    gpumem 7.3   augment 0.721\n",
      "tick 52    kimg 4824.7   time 3h 29m 33s   sec/tick 237.5   sec/kimg 58.91   maintenance 0.0    gpumem 7.3   augment 0.717\n",
      "tick 53    kimg 4828.8   time 3h 33m 31s   sec/tick 237.4   sec/kimg 58.87   maintenance 0.0    gpumem 7.3   augment 0.717\n",
      "tick 54    kimg 4832.8   time 3h 37m 29s   sec/tick 237.8   sec/kimg 58.98   maintenance 0.0    gpumem 7.3   augment 0.721\n",
      "tick 55    kimg 4836.8   time 3h 41m 32s   sec/tick 237.8   sec/kimg 58.97   maintenance 6.2    gpumem 7.3   augment 0.723\n",
      "tick 56    kimg 4840.9   time 3h 45m 30s   sec/tick 237.6   sec/kimg 58.92   maintenance 0.0    gpumem 7.3   augment 0.721\n",
      "tick 57    kimg 4844.9   time 3h 49m 27s   sec/tick 237.4   sec/kimg 58.87   maintenance 0.0    gpumem 7.3   augment 0.726\n",
      "tick 58    kimg 4848.9   time 3h 53m 25s   sec/tick 237.6   sec/kimg 58.92   maintenance 0.0    gpumem 7.3   augment 0.729\n",
      "tick 59    kimg 4853.0   time 3h 57m 23s   sec/tick 237.6   sec/kimg 58.94   maintenance 0.0    gpumem 7.3   augment 0.728\n",
      "tick 60    kimg 4857.0   time 4h 01m 20s   sec/tick 237.8   sec/kimg 58.97   maintenance 0.0    gpumem 7.3   augment 0.730\n",
      "tick 61    kimg 4861.0   time 4h 05m 24s   sec/tick 237.6   sec/kimg 58.92   maintenance 6.1    gpumem 7.3   augment 0.732\n",
      "tick 62    kimg 4865.0   time 4h 09m 22s   sec/tick 237.5   sec/kimg 58.92   maintenance 0.0    gpumem 7.3   augment 0.725\n",
      "tick 63    kimg 4869.1   time 4h 13m 19s   sec/tick 237.6   sec/kimg 58.93   maintenance 0.0    gpumem 7.3   augment 0.725\n",
      "tick 64    kimg 4873.1   time 4h 17m 17s   sec/tick 237.6   sec/kimg 58.93   maintenance 0.0    gpumem 7.3   augment 0.726\n",
      "tick 65    kimg 4877.1   time 4h 21m 14s   sec/tick 237.1   sec/kimg 58.81   maintenance 0.0    gpumem 7.3   augment 0.723\n",
      "tick 66    kimg 4881.2   time 4h 25m 11s   sec/tick 237.4   sec/kimg 58.87   maintenance 0.0    gpumem 7.3   augment 0.723\n",
      "tick 67    kimg 4885.2   time 4h 29m 15s   sec/tick 237.6   sec/kimg 58.92   maintenance 6.1    gpumem 7.3   augment 0.725\n",
      "tick 68    kimg 4889.2   time 4h 33m 13s   sec/tick 237.6   sec/kimg 58.92   maintenance 0.0    gpumem 7.3   augment 0.732\n",
      "tick 69    kimg 4893.3   time 4h 37m 10s   sec/tick 237.4   sec/kimg 58.88   maintenance 0.0    gpumem 7.3   augment 0.731\n",
      "tick 70    kimg 4897.3   time 4h 41m 08s   sec/tick 237.6   sec/kimg 58.93   maintenance 0.0    gpumem 7.3   augment 0.735\n",
      "tick 71    kimg 4901.3   time 4h 45m 06s   sec/tick 237.7   sec/kimg 58.97   maintenance 0.0    gpumem 7.3   augment 0.736\n",
      "tick 72    kimg 4905.4   time 4h 49m 03s   sec/tick 237.8   sec/kimg 58.98   maintenance 0.0    gpumem 7.3   augment 0.737\n",
      "tick 73    kimg 4909.4   time 4h 53m 07s   sec/tick 237.7   sec/kimg 58.96   maintenance 6.2    gpumem 7.3   augment 0.739\n",
      "tick 74    kimg 4913.4   time 4h 57m 05s   sec/tick 237.7   sec/kimg 58.96   maintenance 0.0    gpumem 7.3   augment 0.737\n",
      "tick 75    kimg 4917.5   time 5h 01m 03s   sec/tick 238.1   sec/kimg 59.04   maintenance 0.0    gpumem 7.3   augment 0.742\n",
      "tick 76    kimg 4921.5   time 5h 05m 01s   sec/tick 238.0   sec/kimg 59.03   maintenance 0.0    gpumem 7.3   augment 0.741\n",
      "tick 77    kimg 4925.5   time 5h 08m 59s   sec/tick 237.6   sec/kimg 58.94   maintenance 0.0    gpumem 7.3   augment 0.745\n",
      "tick 78    kimg 4929.6   time 5h 12m 57s   sec/tick 238.0   sec/kimg 59.03   maintenance 0.0    gpumem 7.3   augment 0.747\n",
      "tick 79    kimg 4933.6   time 5h 17m 01s   sec/tick 238.1   sec/kimg 59.04   maintenance 6.4    gpumem 7.3   augment 0.753\n",
      "tick 80    kimg 4937.6   time 5h 20m 59s   sec/tick 238.1   sec/kimg 59.04   maintenance 0.0    gpumem 7.3   augment 0.749\n",
      "tick 81    kimg 4941.7   time 5h 24m 57s   sec/tick 237.8   sec/kimg 58.97   maintenance 0.0    gpumem 7.3   augment 0.746\n",
      "tick 82    kimg 4945.7   time 5h 28m 55s   sec/tick 237.9   sec/kimg 59.01   maintenance 0.0    gpumem 7.3   augment 0.743\n",
      "tick 83    kimg 4949.7   time 5h 32m 53s   sec/tick 238.0   sec/kimg 59.02   maintenance 0.0    gpumem 7.3   augment 0.741\n",
      "tick 84    kimg 4953.8   time 5h 36m 51s   sec/tick 237.6   sec/kimg 58.94   maintenance 0.0    gpumem 7.3   augment 0.730\n",
      "tick 85    kimg 4957.8   time 5h 40m 54s   sec/tick 237.6   sec/kimg 58.93   maintenance 6.2    gpumem 7.3   augment 0.742\n",
      "tick 86    kimg 4961.8   time 5h 44m 52s   sec/tick 237.8   sec/kimg 58.98   maintenance 0.0    gpumem 7.3   augment 0.738\n",
      "tick 87    kimg 4965.8   time 5h 48m 50s   sec/tick 237.7   sec/kimg 58.97   maintenance 0.0    gpumem 7.3   augment 0.739\n",
      "tick 88    kimg 4969.9   time 5h 52m 48s   sec/tick 237.8   sec/kimg 58.99   maintenance 0.0    gpumem 7.3   augment 0.737\n",
      "tick 89    kimg 4973.9   time 5h 56m 45s   sec/tick 237.4   sec/kimg 58.88   maintenance 0.0    gpumem 7.3   augment 0.736\n",
      "tick 90    kimg 4977.9   time 6h 00m 43s   sec/tick 237.6   sec/kimg 58.92   maintenance 0.0    gpumem 7.3   augment 0.741\n",
      "tick 91    kimg 4982.0   time 6h 04m 47s   sec/tick 237.8   sec/kimg 58.97   maintenance 6.2    gpumem 7.3   augment 0.740\n",
      "tick 92    kimg 4986.0   time 6h 08m 44s   sec/tick 237.8   sec/kimg 58.97   maintenance 0.0    gpumem 7.3   augment 0.737\n",
      "tick 93    kimg 4990.0   time 6h 12m 42s   sec/tick 237.3   sec/kimg 58.86   maintenance 0.0    gpumem 7.3   augment 0.737\n",
      "tick 94    kimg 4994.1   time 6h 16m 39s   sec/tick 237.6   sec/kimg 58.92   maintenance 0.0    gpumem 7.3   augment 0.735\n",
      "tick 95    kimg 4998.1   time 6h 20m 37s   sec/tick 237.7   sec/kimg 58.95   maintenance 0.0    gpumem 7.3   augment 0.733\n",
      "tick 96    kimg 5000.0   time 6h 22m 30s   sec/tick 112.9   sec/kimg 58.81   maintenance 0.0    gpumem 7.3   augment 0.736\n",
      "\n",
      "Exiting...\n"
     ]
    }
   ],
   "source": [
    "!python stylegan2-ada/train.py \\\n",
    " --outdir='/content/drive/My Drive/training-runs' \\\n",
    " --snap=6 \\\n",
    " --data='/content/datasets/steam' \\\n",
    " --mirror=true \\\n",
    " --metrics=none \\\n",
    " --cfg=auto_no_ramp \\\n",
    " --cfg_map=8 \\\n",
    " --kimg=5000 \\\n",
    " --resume=latest \\\n",
    " --p=0.713 \\\n",
    " --freezed=10 \\\n",
    " "
   ]
  },
  {
   "cell_type": "markdown",
   "metadata": {},
   "source": [
    "# Generate images"
   ]
  },
  {
   "cell_type": "code",
   "execution_count": 8,
   "metadata": {},
   "outputs": [
    {
     "name": "stdout",
     "output_type": "stream",
     "text": [
      "/content\n"
     ]
    }
   ],
   "source": [
    "%cd /content"
   ]
  },
  {
   "cell_type": "code",
   "execution_count": 36,
   "metadata": {},
   "outputs": [],
   "source": [
    "num_images = 20\n",
    "network_pkl = '/content/saves/00000-bonn-mirror-auto_tuned1-kimg50000/network-snapshot-004300.pkl'\n",
    "out = 'gen/'"
   ]
  },
  {
   "cell_type": "code",
   "execution_count": 14,
   "metadata": {},
   "outputs": [
    {
     "name": "stdout",
     "output_type": "stream",
     "text": [
      "Loading networks from \"/content/saves/00000-bonn-mirror-auto_tuned1-kimg50000/network-snapshot-004300.pkl\"...\n",
      "Setting up TensorFlow plugin \"fused_bias_act.cu\": Loading... Done.\n",
      "Setting up TensorFlow plugin \"upfirdn_2d.cu\": Loading... Done.\n",
      "Generating image for seed 0 (0/5) ...\n",
      "Generating image for seed 1 (1/5) ...\n",
      "Generating image for seed 2 (2/5) ...\n",
      "Generating image for seed 3 (3/5) ...\n",
      "Generating image for seed 4 (4/5) ...\n"
     ]
    }
   ],
   "source": [
    "!python stylegan2-ada/generate.py --network={network_pkl} --outdir=out/notrunc0 --trunc=1.0 --seeds=0-{num_images-1}"
   ]
  },
  {
   "cell_type": "code",
   "execution_count": 15,
   "metadata": {},
   "outputs": [
    {
     "name": "stdout",
     "output_type": "stream",
     "text": [
      "Loading networks from \"/content/saves/00000-bonn-mirror-auto_tuned1-kimg50000/network-snapshot-004300.pkl\"...\n",
      "Setting up TensorFlow plugin \"fused_bias_act.cu\": Loading... Done.\n",
      "Setting up TensorFlow plugin \"upfirdn_2d.cu\": Loading... Done.\n",
      "Generating image for seed 0 (0/5) ...\n",
      "Generating image for seed 1 (1/5) ...\n",
      "Generating image for seed 2 (2/5) ...\n",
      "Generating image for seed 3 (3/5) ...\n",
      "Generating image for seed 4 (4/5) ...\n"
     ]
    }
   ],
   "source": [
    "!python stylegan2-ada/generate.py --network={network_pkl} --outdir=out/trunc3 --trunc=0.5 --seeds=0-{num_images-1}"
   ]
  },
  {
   "cell_type": "code",
   "execution_count": 37,
   "metadata": {},
   "outputs": [
    {
     "name": "stdout",
     "output_type": "stream",
     "text": [
      "Loading networks from \"/content/saves/00000-bonn-mirror-auto_tuned1-kimg50000/network-snapshot-004300.pkl\"...\n",
      "Setting up TensorFlow plugin \"fused_bias_act.cu\": Loading... Done.\n",
      "Setting up TensorFlow plugin \"upfirdn_2d.cu\": Loading... Done.\n"
     ]
    }
   ],
   "source": [
    "!python stylegan2-ada/generate_video.py --network={network_pkl} --outdir=out --trunc=0.5 --seeds=0-{num_images-1} --interpolation_size=60"
   ]
  },
  {
   "cell_type": "code",
   "execution_count": 39,
   "metadata": {},
   "outputs": [
    {
     "name": "stdout",
     "output_type": "stream",
     "text": [
      "Loading networks from \"/content/saves/00000-bonn-mirror-auto_tuned1-kimg50000/network-snapshot-004300.pkl\"...\n",
      "Setting up TensorFlow plugin \"fused_bias_act.cu\": Loading... Done.\n",
      "Setting up TensorFlow plugin \"upfirdn_2d.cu\": Loading... Done.\n"
     ]
    }
   ],
   "source": [
    "!python stylegan2-ada/generate_video.py --network={network_pkl} --outdir=out/vid_notrunc1 --trunc=1 --seeds=0-{num_images-1} --interpolation_size=100"
   ]
  },
  {
   "cell_type": "code",
   "execution_count": null,
   "metadata": {},
   "outputs": [],
   "source": []
  },
  {
   "cell_type": "code",
   "execution_count": 19,
   "metadata": {},
   "outputs": [
    {
     "name": "stdout",
     "output_type": "stream",
     "text": [
      "Loading networks from \"/content/saves/00000-bonn-mirror-auto_tuned1-kimg50000/network-snapshot-004300.pkl\"...\n",
      "Setting up TensorFlow plugin \"fused_bias_act.cu\": Loading... Done.\n",
      "Setting up TensorFlow plugin \"upfirdn_2d.cu\": Loading... Done.\n",
      "Generating W vectors...\n",
      "Generating images...\n",
      "Generating style-mixed images...\n",
      "Saving images...\n",
      "Saving image grid...\n"
     ]
    }
   ],
   "source": [
    "!python stylegan2-ada/style_mixing.py --network={network_pkl} --outdir=out/mix0 --trunc=1.0 --rows=1,41,208,322,424,939 --cols=1,41,208,322,424,939"
   ]
  },
  {
   "cell_type": "code",
   "execution_count": 20,
   "metadata": {},
   "outputs": [
    {
     "name": "stdout",
     "output_type": "stream",
     "text": [
      "Loading networks from \"/content/saves/00000-bonn-mirror-auto_tuned1-kimg50000/network-snapshot-004300.pkl\"...\n",
      "Setting up TensorFlow plugin \"fused_bias_act.cu\": Loading... Done.\n",
      "Setting up TensorFlow plugin \"upfirdn_2d.cu\": Loading... Done.\n",
      "Generating W vectors...\n",
      "Generating images...\n",
      "Generating style-mixed images...\n",
      "Saving images...\n",
      "Saving image grid...\n"
     ]
    }
   ],
   "source": [
    "!python stylegan2-ada/style_mixing.py --network={network_pkl} --outdir=out/mix_trunc0 --trunc=0.5 --rows=1,41,208,322,424,939 --cols=1,41,208,322,424,939"
   ]
  },
  {
   "cell_type": "code",
   "execution_count": null,
   "metadata": {},
   "outputs": [],
   "source": []
  },
  {
   "cell_type": "code",
   "execution_count": 30,
   "metadata": {},
   "outputs": [],
   "source": [
    "from PIL import Image\n",
    "\n",
    "image = Image.open('projector/im3.jpg')\n",
    "new_image = image.resize((128, 128))\n",
    "new_image.save('projector/im3.jpg')"
   ]
  },
  {
   "cell_type": "code",
   "execution_count": 31,
   "metadata": {},
   "outputs": [
    {
     "name": "stdout",
     "output_type": "stream",
     "text": [
      "Loading networks from \"/content/saves/00000-bonn-mirror-auto_tuned1-kimg50000/network-snapshot-004300.pkl\"...\n",
      "Setting up TensorFlow plugin \"fused_bias_act.cu\": Loading... Done.\n",
      "Setting up TensorFlow plugin \"upfirdn_2d.cu\": Loading... Done.\n",
      "Projector: Computing W midpoint and stddev using 10000 samples...\n",
      "Projector: std = 19.6403\n",
      "Projector: Setting up noise inputs...\n",
      "Projector: Building image output graph...\n",
      "Projector: Building loss graph...\n",
      "Projector: Building noise regularization graph...\n",
      "Projector: Setting up optimizer...\n",
      "Projector: Preparing target images...\n",
      "Projector: Initializing optimization state...\n",
      "100% 1000/1000 [00:57<00:00, 17.43it/s, dist=0.1409, loss=0.14]  \n"
     ]
    }
   ],
   "source": [
    "!python stylegan2-ada/projector.py --network={network_pkl} --outdir=projector/3 --seed=0 --target=projector/im3.jpg"
   ]
  },
  {
   "cell_type": "code",
   "execution_count": null,
   "metadata": {},
   "outputs": [],
   "source": []
  }
 ],
 "metadata": {
  "accelerator": "GPU",
  "colab": {
   "collapsed_sections": [
    "sbWQ38fBoo4h",
    "g0oZRRs2KO5A",
    "ruo5KFL4yw0j",
    "Aj-3t7dM98dj",
    "iL6_7wnZKo3w",
    "uDtZ9CVSBvkZ",
    "BWxFpc-QkJOH",
    "UEzOo7gtBNvE",
    "imBVQY2bQyFN",
    "lUKiyWY22dzf"
   ],
   "machine_shape": "hm",
   "name": "StyleGAN2-ADA_training.ipynb",
   "provenance": []
  },
  "kernelspec": {
   "display_name": "Python 3",
   "language": "python",
   "name": "python3"
  },
  "language_info": {
   "codemirror_mode": {
    "name": "ipython",
    "version": 3
   },
   "file_extension": ".py",
   "mimetype": "text/x-python",
   "name": "python",
   "nbconvert_exporter": "python",
   "pygments_lexer": "ipython3",
   "version": "3.6.9"
  }
 },
 "nbformat": 4,
 "nbformat_minor": 4
}
